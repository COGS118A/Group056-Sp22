{
 "cells": [
  {
   "cell_type": "markdown",
   "metadata": {},
   "source": [
    "# COGS 118A- Project Proposal"
   ]
  },
  {
   "cell_type": "markdown",
   "metadata": {},
   "source": [
    "# Names\n",
    "\n",
    "- James Callahan\n",
    "- Dima Musa\n",
    "- Victor Tran\n",
    "- Xiaonan Fu"
   ]
  },
  {
   "cell_type": "markdown",
   "metadata": {},
   "source": [
    "\n",
    "# Abstract \n",
    "\n",
    "The goal of our project is to predict the price of a used car based on multiple variables including the year of manufacture, mileage (number of kilometers driven by the car), model, make (manufacturer of the car), and the location of sale. We will be using multiple training algorithms (linear regression, K-Nearest Neighbors, and Decision Trees) to predict the price based on the multiple variables listed. Our performance will be assessed using K-folds cross-validation. A successful price estimate will fall within an established margin of error of the actual price."
   ]
  },
  {
   "cell_type": "markdown",
   "metadata": {},
   "source": [
    "# Background\n",
    "\n",
    "Cars are an essential part of everyday life for most Americans. In 2022, around 276 million vehicles were registered in the United States <a name=\"bts\"></a>[<sup>[1]</sup>](#btsnote). In 2019, 40 thousand used light vehicles were purchased in comparison to the 1,500 new light vehicles purchased <a name=\"usedbts\"></a>[<sup>[2]</sup>](#usedbtsnote). There is a clear demand for used cars in the United States. With such high demand, predicting the selling price of a used vehicle would be extremely useful to both sellers and buyers.\n",
    "\n",
    "There have been multiple attempts to predict car prices using machine learning algorthims. In 2014, Sameerchand Pudaruth attempted to predict the price of used cars using multiple linear regression analysis, k-nearest neighbors, naive bayes and decision trees. Pudaruth based their prediction on make, model, volume of cylinder, mileage in kilometers, year of manufacture, and price. They found comparable predicitions from all machine learning models <a name=\"pudaruth\"></a>[<sup>[3]</sup>](#pudaruthnote).\n",
    "\n",
    "In 2019, Enis Gegic et al. also attempted to predict the price of used cars. They used artifical neural networks, support vector machine, and random forest. They also used cross validation to evaluate their predicitons. The variables used to make predictions were make, model, fuel type, power in kilowats, year of manufacture, miles, leather (yes/no), cruise control (yes/no), and price. Then, prices were classified based on price ranges. They found applying a single machine learning algorthim to be insufficent as \"accuracy was less than 50%\" (Gegic et al., 118). Thus, and \"ensemble of multiple machine learning algorithms has been proposed and this combination of ML methods gains accuracy of 92.38%\" (Gegic et al., 118) <a name=\"enis\"></a>[<sup>[4]</sup>](#enisnote)."
   ]
  },
  {
   "cell_type": "markdown",
   "metadata": {},
   "source": [
    "# Problem Statement\n",
    "\n",
    "We will build a linear regression, KNN, and decision tree model that can predict the price of a secondhand car in America based on make, model, mileage, year of manufacture, and state of car."
   ]
  },
  {
   "cell_type": "markdown",
   "metadata": {},
   "source": [
    "# Data\n",
    "\n",
    "#### [Used Car Price Predictions Dataset](https://www.kaggle.com/datasets/harikrishnareddyb/used-car-price-predictions)\n",
    "\n",
    "This data set has:\n",
    "- 7 variables Price, Year (representing model year of the car, not year of sale), Mileage, City (in which the car was sold), State, VIN, Make, and Model\n",
    "- 852,000 datapoints\n",
    "\n",
    "The most important variables for us are price (target variable), year, Mileage, State, and Make. Price, year, and Mileage are represented as integers, while State and Make are represented by strings.\n",
    "\n",
    "An additional variable for whether the car comes from a state that salts the roads in winter may be added, as this should effect the value of a used car (Cars from states that salt their roads are more prone to rust, lowering their resale value). Furthermore, the fuel consumption per mile can impact the price of cars."
   ]
  },
  {
   "cell_type": "markdown",
   "metadata": {},
   "source": [
    "# Proposed Solution\n",
    "\n",
    "We propose a comparison across multiple algorithms for solving our problem. Potential methods for solving our problem include linear regression, polynomial regression, k-nearest neighbors (KNN), support vector machine (SVM) , and the use of decision trees. Implementing a variety of supervised algorithms would afford us an opportunity to approach the problem from multiple perspectives, and would allow an opportunity to compare the performance of these various methods. For a benchmark, we will compare our results with other models that have been trained on this data.\n",
    "\n",
    "SVM has been used in multiple similar studies for its ability to deal with datasets with more dimensions. SVM can make a binary decision and decide in which among the two categories the input belongs to. KNN compares the new data to all the existing records to decide the best match. Decision trees are best for nominal categories. "
   ]
  },
  {
   "cell_type": "markdown",
   "metadata": {},
   "source": [
    "# Evaluation Metrics\n",
    "\n",
    "The performance of our model will be evaluated with k-folds cross validation. Accuracy will be compared across models to determine which is most accurate. Cross validation is where a given data set is split into a K number of sections/folds where each fold is used as a testing set at some point <a name=\"k\"></a>[<sup>[5]</sup>](#knote)."
   ]
  },
  {
   "cell_type": "markdown",
   "metadata": {},
   "source": [
    "# Ethics & Privacy"
   ]
  },
  {
   "cell_type": "markdown",
   "metadata": {},
   "source": [
    "The data we will be using is largely anonymous. However, the VIN (Vehicle Identification Number) and location of sale are included which could potentially be used to identify the current or past owners of the cars listed in the dataset. We will remove the VIN from our analysis. There will be no attempt made by any members of our team to identify the owners of any of the vehicles listed in our dataset."
   ]
  },
  {
   "cell_type": "markdown",
   "metadata": {},
   "source": [
    "# Team Expectations "
   ]
  },
  {
   "cell_type": "markdown",
   "metadata": {},
   "source": [
    "* Equal weight will be given to suggestions from any member of the team.\n",
    "* Work will be distributed evenly and fairly according to the abilities of team members.\n",
    "* Weekly meetings will be held to evaluate progress.\n",
    "* Concerns with someone's performance will be communicated directly to them (with grace and kindness). \n",
    "* Clear delegation of tasks and responsibilities.  \n",
    "* Clear communication about progress, questions, concerns, etc."
   ]
  },
  {
   "cell_type": "markdown",
   "metadata": {},
   "source": [
    "# Project Timeline Proposal"
   ]
  },
  {
   "cell_type": "markdown",
   "metadata": {},
   "source": [
    "- Search for supplementary datasets (if needed)\n",
    "- Discuss wrangling\n",
    "- Wrangle \n",
    "- EDA\n",
    "- Discuss analysis plan\n",
    "- Assign group members a model to perform\n",
    "- Compare performance\n",
    "- Draft written portion\n",
    "- Turn in"
   ]
  },
  {
   "cell_type": "markdown",
   "metadata": {},
   "source": [
    "# Footnotes\n",
    "<a name=\"btsnote\"></a>1.[^](#bts): [Number of U.S. Aircraft, Vehicles, Vessels, and Other Conveyances](https://www.bts.gov/content/number-us-aircraft-vehicles-vessels-and-other-conveyances)<br> \n",
    "<a name=\"usedbtsnote\"></a>2.[^](#usedbts): [New and Used Passenger Car and Light Truck Sales and Leases](https://www.bts.gov/content/new-and-used-passenger-car-sales-and-leases-thousands-vehicles)<br>\n",
    "<a name=\"pudaruthnote\"></a>3.[^](#pudaruth): Pudaruth, Sameerchand. \"Predicting the price of used cars using machine learning techniques.\" Int. J. Inf. Comput. Technol 4.7 (2014): 753-764. https://www.academia.edu/download/54261672/2014_Predicting_the_Price_of_Used_Cars_using_Machine_Learning_Techniques.pdf <br>\n",
    "<a name=\"enisnote\"></a>4.[^](#enis): Gegic, Enis, et al. \"Car price prediction using machine learning techniques.\" TEM Journal 8.1 (2019): 113. https://www.temjournal.com/content/81/TEMJournalFebruary2019_113_118.pdf <br>\n",
    "<a name=\"knote\"></a>5.[^](#k): [K-Fold Cross Validation](https://medium.datadriveninvestor.com/k-fold-cross-validation-6b8518070833)<br>"
   ]
  },
  {
   "cell_type": "code",
   "execution_count": null,
   "metadata": {},
   "outputs": [],
   "source": []
  }
 ],
 "metadata": {
  "kernelspec": {
   "display_name": "Python 3 (ipykernel)",
   "language": "python",
   "name": "python3"
  },
  "language_info": {
   "codemirror_mode": {
    "name": "ipython",
    "version": 3
   },
   "file_extension": ".py",
   "mimetype": "text/x-python",
   "name": "python",
   "nbconvert_exporter": "python",
   "pygments_lexer": "ipython3",
   "version": "3.9.7"
  }
 },
 "nbformat": 4,
 "nbformat_minor": 2
}
