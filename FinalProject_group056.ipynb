{
 "cells": [
  {
   "cell_type": "markdown",
   "metadata": {},
   "source": [
    "# COGS 118A - Final Project"
   ]
  },
  {
   "cell_type": "markdown",
   "metadata": {},
   "source": [
    "# Used Car Price Prediction\n",
    "\n",
    "## Group members\n",
    "\n",
    "- James Callahan\n",
    "- Dima Musa\n",
    "- Victor Tran\n",
    "- Xiaonan Fu"
   ]
  },
  {
   "cell_type": "markdown",
   "metadata": {},
   "source": [
    "# Abstract\n",
    "\n",
    "The goal of our project is to predict the price of a used car (under $15,000) based on the following variables: number of days on the market, presence of frame damage, engine displacement, prior accidents, horsepower, major options, mileage, number of previous owners, and model year. We will be using multiple training algorithms (logistic regression, random forest, and SVM) to predict the price based on the multiple variables listed. Before committing to a model, we will perform simple statistical analysis to understand which variables impact price the most and how to weight them. Hyperparameters will be tuned with gridsearch, and performance will be measured by sklearn's score function. We found that random forest was the best method for classifying our data."
   ]
  },
  {
   "cell_type": "markdown",
   "metadata": {},
   "source": [
    "# Background\n",
    "\n",
    "Cars are an essential part of everyday life for most Americans. In 2022, around 276 million vehicles were registered in the United States <a name=\"bts\"></a>[<sup>[1]</sup>](#btsnote). In 2019, 40 thousand used light vehicles were purchased in comparison to the 1,500 new light vehicles purchased <a name=\"usedbts\"></a>[<sup>[2]</sup>](#usedbtsnote). There is a clear demand for used cars in the United States. With such high demand, predicting the selling price of a used vehicle would be extremely useful to both sellers and buyers.\n",
    "\n",
    "There have been multiple attempts to predict car prices using machine learning algorthims. In 2014, Sameerchand Pudaruth attempted to predict the price of used cars using multiple linear regression analysis, k-nearest neighbors, naive bayes and decision trees. Pudaruth based their prediction on make, model, volume of cylinder, mileage in kilometers, year of manufacture, and price. They found comparable predicitions from all machine learning models <a name=\"pudaruth\"></a>[<sup>[3]</sup>](#pudaruthnote).\n",
    "\n",
    "In 2019, Enis Gegic et al. also attempted to predict the price of used cars. They used artifical neural networks, support vector machine, and random forest. They also used cross validation to evaluate their predicitons. The variables used to make predictions were make, model, fuel type, power in kilowats, year of manufacture, miles, leather (yes/no), cruise control (yes/no), and price. Then, prices were classified based on price ranges. They found applying a single machine learning algorthim to be insufficent as \"accuracy was less than 50%\" (Gegic et al., 118). Thus, and \"ensemble of multiple machine learning algorithms has been proposed and this combination of ML methods gains accuracy of 92.38%\" (Gegic et al., 118) <a name=\"enis\"></a>[<sup>[4]</sup>](#enisnote)."
   ]
  },
  {
   "cell_type": "markdown",
   "metadata": {},
   "source": [
    "# Problem Statement\n",
    "\n",
    "We want to build a model that would be able to accurately predict the sale price of a used car, taking in to account variables  such as make, model, mileage, accidents, and number of prior owners among others. \n",
    "\n",
    "Compounding global supply chain disruptions and materials shortages have sent used car prices skyrocketing in recent years. Shortages and inflated prices of new cars are driving up demand in the used market, leaving many Americans in a situation where they'll end up paying more than they should. We want to build a model that would be able to accurately predict the sale price of a used car, taking in to account variables such as number of prior owners, accidents, and mileage, among others. A car is a large investment, for many it's the second greatest expense after housing. Our hope is that this tool will help consumers better understand what factors have the strongest impact on the final sale price of a car, and to make clear what to look for to save money on a vehicle."
   ]
  },
  {
   "cell_type": "markdown",
   "metadata": {},
   "source": [
    "# Data\n",
    "\n",
    "#### [US Used Cars Dataset](https://www.kaggle.com/datasets/ananaymital/us-used-cars-dataset?select=used_cars_data.csv)\n",
    "\n",
    "This data set originally has:\n",
    "- A whopping 66 variables\n",
    "- 3,000,000 unique values\n",
    "\n",
    "The 18 variables we have kept for now are: \n",
    "- body_type: Type String. Body Type of the vehicle. Like Convertible, Hatchback, Sedan, etc.\n",
    "- latitude: Type Float. Latitude from the geolocation of the dealership.\n",
    "- longitude: Type Float. Longitude from the geolocation of the dealership.\n",
    "- daysonmarket: Type Integer. Days since the vehicle was first listed on the website.\n",
    "- engine_displacement: Type Float. The measure of the cylinder volume swept by all of the pistons of a piston engine, excluding the combustion chambers.\n",
    "- frame_damage: Type Boolean. Whether the vehicle has a damaged frame.\n",
    "- fuel_type: Type String. Dominant type of fuel ingested by the vehicle.\n",
    "- has_accidents: Type Boolean. Whether the vin has any accidents registered.\n",
    "- horsepower: Type Float. Horsepower is the power produced by an engine.\n",
    "- lisitng_color:  Type String. Dominant color group from the exterior color.\n",
    "- major_options: list of strings of features.\n",
    "- make_name: Type string. Manufacturer of car.\n",
    "- mileage: Type float. Number of miles driven by car.\n",
    "- model_name: Type string. \n",
    "- owner_count: Type float. Number of owners.\n",
    "- price: Type float. Listed price of car.\n",
    "- transmission: Type string. Type of transmission.\n",
    "- wheel_system: Type string. Type of wheel_system.\n",
    "- year: Type int. Year of manufacture.\n",
    "\n",
    "After deliberation of what is most valuable to train our model and computing power concerns, we decided to only keep the following variables:\n",
    "- daysonmarket\n",
    "- engine_displacement\n",
    "- make_name\n",
    "- frame_damaged\n",
    "- has_accidents\n",
    "- horsepower\n",
    "- major_options\n",
    "- mileage\n",
    "- owner_count\n",
    "- price\n",
    "- year\n",
    "\n",
    "We have one-hot encoded:\n",
    "- make_name\n",
    "- major_options\n",
    "\n",
    "We have categorized:\n",
    "- price"
   ]
  },
  {
   "cell_type": "markdown",
   "metadata": {},
   "source": [
    "## Data Wrangling"
   ]
  },
  {
   "cell_type": "markdown",
   "metadata": {},
   "source": [
    "Original dataset with 18 selected variables before wrangling."
   ]
  },
  {
   "cell_type": "code",
   "execution_count": 24,
   "metadata": {},
   "outputs": [
    {
     "name": "stdout",
     "output_type": "stream",
     "text": [
      "(1330246, 19)\n"
     ]
    },
    {
     "data": {
      "text/html": [
       "<div>\n",
       "<style scoped>\n",
       "    .dataframe tbody tr th:only-of-type {\n",
       "        vertical-align: middle;\n",
       "    }\n",
       "\n",
       "    .dataframe tbody tr th {\n",
       "        vertical-align: top;\n",
       "    }\n",
       "\n",
       "    .dataframe thead th {\n",
       "        text-align: right;\n",
       "    }\n",
       "</style>\n",
       "<table border=\"1\" class=\"dataframe\">\n",
       "  <thead>\n",
       "    <tr style=\"text-align: right;\">\n",
       "      <th></th>\n",
       "      <th>body_type</th>\n",
       "      <th>latitude</th>\n",
       "      <th>longitude</th>\n",
       "      <th>daysonmarket</th>\n",
       "      <th>engine_displacement</th>\n",
       "      <th>frame_damaged</th>\n",
       "      <th>fuel_type</th>\n",
       "      <th>has_accidents</th>\n",
       "      <th>horsepower</th>\n",
       "      <th>listing_color</th>\n",
       "      <th>major_options</th>\n",
       "      <th>make_name</th>\n",
       "      <th>mileage</th>\n",
       "      <th>model_name</th>\n",
       "      <th>owner_count</th>\n",
       "      <th>price</th>\n",
       "      <th>transmission</th>\n",
       "      <th>wheel_system</th>\n",
       "      <th>year</th>\n",
       "    </tr>\n",
       "  </thead>\n",
       "  <tbody>\n",
       "    <tr>\n",
       "      <th>0</th>\n",
       "      <td>Coupe</td>\n",
       "      <td>18.3467</td>\n",
       "      <td>-66.1098</td>\n",
       "      <td>1252</td>\n",
       "      <td>1700.0</td>\n",
       "      <td>False</td>\n",
       "      <td>Gasoline</td>\n",
       "      <td>False</td>\n",
       "      <td>237.0</td>\n",
       "      <td>RED</td>\n",
       "      <td>['Leather Seats']</td>\n",
       "      <td>Alfa Romeo</td>\n",
       "      <td>301.0</td>\n",
       "      <td>4C</td>\n",
       "      <td>2.0</td>\n",
       "      <td>97579.0</td>\n",
       "      <td>A</td>\n",
       "      <td>RWD</td>\n",
       "      <td>2015</td>\n",
       "    </tr>\n",
       "    <tr>\n",
       "      <th>1</th>\n",
       "      <td>Sedan</td>\n",
       "      <td>18.3467</td>\n",
       "      <td>-66.1098</td>\n",
       "      <td>1233</td>\n",
       "      <td>3000.0</td>\n",
       "      <td>False</td>\n",
       "      <td>Gasoline</td>\n",
       "      <td>False</td>\n",
       "      <td>320.0</td>\n",
       "      <td>SILVER</td>\n",
       "      <td>['Sunroof/Moonroof', 'Alloy Wheels', 'Bluetooth']</td>\n",
       "      <td>BMW</td>\n",
       "      <td>6903.0</td>\n",
       "      <td>3 Series</td>\n",
       "      <td>2.0</td>\n",
       "      <td>58995.0</td>\n",
       "      <td>A</td>\n",
       "      <td>AWD</td>\n",
       "      <td>2016</td>\n",
       "    </tr>\n",
       "    <tr>\n",
       "      <th>2</th>\n",
       "      <td>Sedan</td>\n",
       "      <td>40.7333</td>\n",
       "      <td>-73.2587</td>\n",
       "      <td>33</td>\n",
       "      <td>1600.0</td>\n",
       "      <td>False</td>\n",
       "      <td>Gasoline</td>\n",
       "      <td>False</td>\n",
       "      <td>201.0</td>\n",
       "      <td>BLACK</td>\n",
       "      <td>['Sport Package', 'Sunroof/Moonroof', 'Adaptiv...</td>\n",
       "      <td>Hyundai</td>\n",
       "      <td>30707.0</td>\n",
       "      <td>Elantra</td>\n",
       "      <td>1.0</td>\n",
       "      <td>13324.0</td>\n",
       "      <td>A</td>\n",
       "      <td>FWD</td>\n",
       "      <td>2017</td>\n",
       "    </tr>\n",
       "    <tr>\n",
       "      <th>3</th>\n",
       "      <td>Sedan</td>\n",
       "      <td>40.7333</td>\n",
       "      <td>-73.2587</td>\n",
       "      <td>55</td>\n",
       "      <td>1500.0</td>\n",
       "      <td>False</td>\n",
       "      <td>Gasoline</td>\n",
       "      <td>False</td>\n",
       "      <td>160.0</td>\n",
       "      <td>SILVER</td>\n",
       "      <td>['Driver Confidence Package', 'Power Package',...</td>\n",
       "      <td>Chevrolet</td>\n",
       "      <td>42394.0</td>\n",
       "      <td>Malibu</td>\n",
       "      <td>1.0</td>\n",
       "      <td>14639.0</td>\n",
       "      <td>A</td>\n",
       "      <td>FWD</td>\n",
       "      <td>2018</td>\n",
       "    </tr>\n",
       "    <tr>\n",
       "      <th>4</th>\n",
       "      <td>Coupe</td>\n",
       "      <td>40.8847</td>\n",
       "      <td>-73.8317</td>\n",
       "      <td>36</td>\n",
       "      <td>3500.0</td>\n",
       "      <td>False</td>\n",
       "      <td>Gasoline</td>\n",
       "      <td>False</td>\n",
       "      <td>311.0</td>\n",
       "      <td>BLACK</td>\n",
       "      <td>['Leather Seats', 'Sunroof/Moonroof', 'Navigat...</td>\n",
       "      <td>Lexus</td>\n",
       "      <td>62251.0</td>\n",
       "      <td>RC 350</td>\n",
       "      <td>1.0</td>\n",
       "      <td>32000.0</td>\n",
       "      <td>A</td>\n",
       "      <td>AWD</td>\n",
       "      <td>2018</td>\n",
       "    </tr>\n",
       "  </tbody>\n",
       "</table>\n",
       "</div>"
      ],
      "text/plain": [
       "  body_type  latitude  longitude  daysonmarket  engine_displacement  \\\n",
       "0     Coupe   18.3467   -66.1098          1252               1700.0   \n",
       "1     Sedan   18.3467   -66.1098          1233               3000.0   \n",
       "2     Sedan   40.7333   -73.2587            33               1600.0   \n",
       "3     Sedan   40.7333   -73.2587            55               1500.0   \n",
       "4     Coupe   40.8847   -73.8317            36               3500.0   \n",
       "\n",
       "   frame_damaged fuel_type  has_accidents  horsepower listing_color  \\\n",
       "0          False  Gasoline          False       237.0           RED   \n",
       "1          False  Gasoline          False       320.0        SILVER   \n",
       "2          False  Gasoline          False       201.0         BLACK   \n",
       "3          False  Gasoline          False       160.0        SILVER   \n",
       "4          False  Gasoline          False       311.0         BLACK   \n",
       "\n",
       "                                       major_options   make_name  mileage  \\\n",
       "0                                  ['Leather Seats']  Alfa Romeo    301.0   \n",
       "1  ['Sunroof/Moonroof', 'Alloy Wheels', 'Bluetooth']         BMW   6903.0   \n",
       "2  ['Sport Package', 'Sunroof/Moonroof', 'Adaptiv...     Hyundai  30707.0   \n",
       "3  ['Driver Confidence Package', 'Power Package',...   Chevrolet  42394.0   \n",
       "4  ['Leather Seats', 'Sunroof/Moonroof', 'Navigat...       Lexus  62251.0   \n",
       "\n",
       "  model_name  owner_count    price transmission wheel_system  year  \n",
       "0         4C          2.0  97579.0            A          RWD  2015  \n",
       "1   3 Series          2.0  58995.0            A          AWD  2016  \n",
       "2    Elantra          1.0  13324.0            A          FWD  2017  \n",
       "3     Malibu          1.0  14639.0            A          FWD  2018  \n",
       "4     RC 350          1.0  32000.0            A          AWD  2018  "
      ]
     },
     "execution_count": 24,
     "metadata": {},
     "output_type": "execute_result"
    }
   ],
   "source": [
    "import numpy as np\n",
    "import pandas as pd\n",
    "import matplotlib.pyplot as plt\n",
    "\n",
    "df = pd.concat([pd.read_csv(\"./datasets/d1.csv\"), \n",
    "pd.read_csv(\"./datasets/d2.csv\"), \n",
    "pd.read_csv(\"./datasets/d3.csv\"), \n",
    "pd.read_csv(\"./datasets/d4.csv\")])\n",
    "print(df.shape)\n",
    "df.head()"
   ]
  },
  {
   "cell_type": "markdown",
   "metadata": {},
   "source": [
    "Wrangling to keep 11 final variables."
   ]
  },
  {
   "cell_type": "code",
   "execution_count": 25,
   "metadata": {},
   "outputs": [],
   "source": [
    "#Create dataframe with variables we need\n",
    "df_WIP = df.loc[:,['daysonmarket', 'engine_displacement', 'make_name', \n",
    "              'frame_damaged', 'has_accidents', 'horsepower',\n",
    "              'major_options', 'mileage', 'owner_count', 'price', 'year']]\n",
    "df_WIP = df_WIP.reset_index()\n",
    "df_WIP = df_WIP.drop(['index'], axis = 1)"
   ]
  },
  {
   "cell_type": "markdown",
   "metadata": {},
   "source": [
    "### One-Hot Encoding"
   ]
  },
  {
   "cell_type": "code",
   "execution_count": 26,
   "metadata": {},
   "outputs": [
    {
     "name": "stderr",
     "output_type": "stream",
     "text": [
      "c:\\ProgramData\\Anaconda3\\envs\\massivepotree\\lib\\site-packages\\ipykernel_launcher.py:3: FutureWarning: The default value of regex will change from True to False in a future version. In addition, single character regular expressions will*not* be treated as literal strings when regex=True.\n",
      "  This is separate from the ipykernel package so we can avoid doing imports until\n",
      "c:\\ProgramData\\Anaconda3\\envs\\massivepotree\\lib\\site-packages\\ipykernel_launcher.py:4: FutureWarning: The default value of regex will change from True to False in a future version. In addition, single character regular expressions will*not* be treated as literal strings when regex=True.\n",
      "  after removing the cwd from sys.path.\n"
     ]
    }
   ],
   "source": [
    "#Turn major_options into one-hot encoded major options\n",
    "mo = df_WIP['major_options']\n",
    "mo = mo.str.replace(\"[\",\"\")\n",
    "mo = mo.str.replace(\"]\",\"\")\n",
    "mo = mo.str.replace(\"'\",\"\")\n",
    "mo = mo.str.get_dummies(',')\n",
    "df_WIP = pd.concat([df_WIP, mo], axis=\"columns\")\n",
    "df_WIP = df_WIP.drop(columns=['major_options'])\n",
    "del mo"
   ]
  },
  {
   "cell_type": "code",
   "execution_count": 27,
   "metadata": {},
   "outputs": [],
   "source": [
    "#Turn make into one-hot encoded make\n",
    "make = df_WIP['make_name']\n",
    "make = make.str.get_dummies()\n",
    "df_WIP = pd.concat([df_WIP, make], axis=\"columns\")\n",
    "df_WIP = df_WIP.drop(columns=['make_name'])\n",
    "del make"
   ]
  },
  {
   "cell_type": "markdown",
   "metadata": {},
   "source": [
    "Changing True/False to binary 1/0."
   ]
  },
  {
   "cell_type": "code",
   "execution_count": 28,
   "metadata": {},
   "outputs": [
    {
     "data": {
      "text/html": [
       "<div>\n",
       "<style scoped>\n",
       "    .dataframe tbody tr th:only-of-type {\n",
       "        vertical-align: middle;\n",
       "    }\n",
       "\n",
       "    .dataframe tbody tr th {\n",
       "        vertical-align: top;\n",
       "    }\n",
       "\n",
       "    .dataframe thead th {\n",
       "        text-align: right;\n",
       "    }\n",
       "</style>\n",
       "<table border=\"1\" class=\"dataframe\">\n",
       "  <thead>\n",
       "    <tr style=\"text-align: right;\">\n",
       "      <th></th>\n",
       "      <th>daysonmarket</th>\n",
       "      <th>engine_displacement</th>\n",
       "      <th>frame_damaged</th>\n",
       "      <th>has_accidents</th>\n",
       "      <th>horsepower</th>\n",
       "      <th>mileage</th>\n",
       "      <th>owner_count</th>\n",
       "      <th>price</th>\n",
       "      <th>year</th>\n",
       "      <th>101A Mid Equipment Group</th>\n",
       "      <th>...</th>\n",
       "      <th>SRT</th>\n",
       "      <th>Saab</th>\n",
       "      <th>Saturn</th>\n",
       "      <th>Scion</th>\n",
       "      <th>Subaru</th>\n",
       "      <th>Suzuki</th>\n",
       "      <th>Toyota</th>\n",
       "      <th>Volkswagen</th>\n",
       "      <th>Volvo</th>\n",
       "      <th>smart</th>\n",
       "    </tr>\n",
       "  </thead>\n",
       "  <tbody>\n",
       "    <tr>\n",
       "      <th>0</th>\n",
       "      <td>1252</td>\n",
       "      <td>1700.0</td>\n",
       "      <td>0</td>\n",
       "      <td>0</td>\n",
       "      <td>237.0</td>\n",
       "      <td>301.0</td>\n",
       "      <td>2.0</td>\n",
       "      <td>97579.0</td>\n",
       "      <td>2015</td>\n",
       "      <td>0</td>\n",
       "      <td>...</td>\n",
       "      <td>0</td>\n",
       "      <td>0</td>\n",
       "      <td>0</td>\n",
       "      <td>0</td>\n",
       "      <td>0</td>\n",
       "      <td>0</td>\n",
       "      <td>0</td>\n",
       "      <td>0</td>\n",
       "      <td>0</td>\n",
       "      <td>0</td>\n",
       "    </tr>\n",
       "    <tr>\n",
       "      <th>1</th>\n",
       "      <td>1233</td>\n",
       "      <td>3000.0</td>\n",
       "      <td>0</td>\n",
       "      <td>0</td>\n",
       "      <td>320.0</td>\n",
       "      <td>6903.0</td>\n",
       "      <td>2.0</td>\n",
       "      <td>58995.0</td>\n",
       "      <td>2016</td>\n",
       "      <td>0</td>\n",
       "      <td>...</td>\n",
       "      <td>0</td>\n",
       "      <td>0</td>\n",
       "      <td>0</td>\n",
       "      <td>0</td>\n",
       "      <td>0</td>\n",
       "      <td>0</td>\n",
       "      <td>0</td>\n",
       "      <td>0</td>\n",
       "      <td>0</td>\n",
       "      <td>0</td>\n",
       "    </tr>\n",
       "    <tr>\n",
       "      <th>2</th>\n",
       "      <td>33</td>\n",
       "      <td>1600.0</td>\n",
       "      <td>0</td>\n",
       "      <td>0</td>\n",
       "      <td>201.0</td>\n",
       "      <td>30707.0</td>\n",
       "      <td>1.0</td>\n",
       "      <td>13324.0</td>\n",
       "      <td>2017</td>\n",
       "      <td>0</td>\n",
       "      <td>...</td>\n",
       "      <td>0</td>\n",
       "      <td>0</td>\n",
       "      <td>0</td>\n",
       "      <td>0</td>\n",
       "      <td>0</td>\n",
       "      <td>0</td>\n",
       "      <td>0</td>\n",
       "      <td>0</td>\n",
       "      <td>0</td>\n",
       "      <td>0</td>\n",
       "    </tr>\n",
       "    <tr>\n",
       "      <th>3</th>\n",
       "      <td>55</td>\n",
       "      <td>1500.0</td>\n",
       "      <td>0</td>\n",
       "      <td>0</td>\n",
       "      <td>160.0</td>\n",
       "      <td>42394.0</td>\n",
       "      <td>1.0</td>\n",
       "      <td>14639.0</td>\n",
       "      <td>2018</td>\n",
       "      <td>0</td>\n",
       "      <td>...</td>\n",
       "      <td>0</td>\n",
       "      <td>0</td>\n",
       "      <td>0</td>\n",
       "      <td>0</td>\n",
       "      <td>0</td>\n",
       "      <td>0</td>\n",
       "      <td>0</td>\n",
       "      <td>0</td>\n",
       "      <td>0</td>\n",
       "      <td>0</td>\n",
       "    </tr>\n",
       "    <tr>\n",
       "      <th>4</th>\n",
       "      <td>36</td>\n",
       "      <td>3500.0</td>\n",
       "      <td>0</td>\n",
       "      <td>0</td>\n",
       "      <td>311.0</td>\n",
       "      <td>62251.0</td>\n",
       "      <td>1.0</td>\n",
       "      <td>32000.0</td>\n",
       "      <td>2018</td>\n",
       "      <td>0</td>\n",
       "      <td>...</td>\n",
       "      <td>0</td>\n",
       "      <td>0</td>\n",
       "      <td>0</td>\n",
       "      <td>0</td>\n",
       "      <td>0</td>\n",
       "      <td>0</td>\n",
       "      <td>0</td>\n",
       "      <td>0</td>\n",
       "      <td>0</td>\n",
       "      <td>0</td>\n",
       "    </tr>\n",
       "  </tbody>\n",
       "</table>\n",
       "<p>5 rows × 329 columns</p>\n",
       "</div>"
      ],
      "text/plain": [
       "   daysonmarket  engine_displacement  frame_damaged  has_accidents  \\\n",
       "0          1252               1700.0              0              0   \n",
       "1          1233               3000.0              0              0   \n",
       "2            33               1600.0              0              0   \n",
       "3            55               1500.0              0              0   \n",
       "4            36               3500.0              0              0   \n",
       "\n",
       "   horsepower  mileage  owner_count    price  year   101A Mid Equipment Group  \\\n",
       "0       237.0    301.0          2.0  97579.0  2015                          0   \n",
       "1       320.0   6903.0          2.0  58995.0  2016                          0   \n",
       "2       201.0  30707.0          1.0  13324.0  2017                          0   \n",
       "3       160.0  42394.0          1.0  14639.0  2018                          0   \n",
       "4       311.0  62251.0          1.0  32000.0  2018                          0   \n",
       "\n",
       "   ...  SRT  Saab  Saturn  Scion  Subaru  Suzuki  Toyota  Volkswagen  Volvo  \\\n",
       "0  ...    0     0       0      0       0       0       0           0      0   \n",
       "1  ...    0     0       0      0       0       0       0           0      0   \n",
       "2  ...    0     0       0      0       0       0       0           0      0   \n",
       "3  ...    0     0       0      0       0       0       0           0      0   \n",
       "4  ...    0     0       0      0       0       0       0           0      0   \n",
       "\n",
       "   smart  \n",
       "0      0  \n",
       "1      0  \n",
       "2      0  \n",
       "3      0  \n",
       "4      0  \n",
       "\n",
       "[5 rows x 329 columns]"
      ]
     },
     "execution_count": 28,
     "metadata": {},
     "output_type": "execute_result"
    }
   ],
   "source": [
    "#convert True/False data into 1/0\n",
    "df_WIP[['frame_damaged', 'has_accidents']] = df_WIP[['frame_damaged', 'has_accidents']].astype(int)\n",
    "df_WIP.head()"
   ]
  },
  {
   "cell_type": "markdown",
   "metadata": {},
   "source": [
    "## Price EDA and Categorization"
   ]
  },
  {
   "cell_type": "code",
   "execution_count": null,
   "metadata": {},
   "outputs": [],
   "source": [
    "df_pa = df_WIP['price']\n",
    "plt.figure(figsize=(14, 5))\n",
    "plt.hist(df_pa, bins=range(0, 100000, 5000))\n",
    "plt.show()"
   ]
  },
  {
   "cell_type": "markdown",
   "metadata": {},
   "source": [
    "Using $5000 as the width of bins, this histogram shows how many cars are in each price range.  \n",
    "\n",
    "Most observations locate in the low price range, and the mode (or plurality) of the price is between $15000 - $20000. Perhaps this dataset will have a model preform better at predicting cheaper cars, rather than cars with a price higher than 60000. "
   ]
  },
  {
   "cell_type": "markdown",
   "metadata": {},
   "source": [
    "This step converts a continuous value to multiple categories. To ensure each category has enough data to be trained and tested, the price range will not have a fixed size.\n",
    " \n",
    "We use Pandas.qcut to split the dataset into 5 price ranges, and round the boundary to thousands. Some range is too narrow or wide, hance we manually adjusted them."
   ]
  },
  {
   "cell_type": "code",
   "execution_count": 30,
   "metadata": {},
   "outputs": [
    {
     "data": {
      "text/plain": [
       "array([      0.,   12000.,   17000.,   22000.,   31000., 3195000.])"
      ]
     },
     "execution_count": 30,
     "metadata": {},
     "output_type": "execute_result"
    }
   ],
   "source": [
    "pa_c, priceInterval = pd.qcut(x=df_pa, q=5, retbins=True)\n",
    "del pa_c\n",
    "priceInterval[0] = 0\n",
    "for i in range(priceInterval.shape[0]):\n",
    "    priceInterval[i] = int(round(priceInterval[i], -3))\n",
    "priceInterval"
   ]
  },
  {
   "cell_type": "markdown",
   "metadata": {},
   "source": [
    "The next code block adds more ranges after $30k to make the classification more informative. After those stpes, we get 8 price ranges. Too many catergories make classification harder and slower. "
   ]
  },
  {
   "cell_type": "code",
   "execution_count": 31,
   "metadata": {},
   "outputs": [],
   "source": [
    "priceInterval = priceInterval[0:-1].tolist()\n",
    "priceInterval.extend([55000, 90000, 150000, 200000])"
   ]
  },
  {
   "cell_type": "code",
   "execution_count": 10,
   "metadata": {},
   "outputs": [
    {
     "data": {
      "text/html": [
       "<div>\n",
       "<style scoped>\n",
       "    .dataframe tbody tr th:only-of-type {\n",
       "        vertical-align: middle;\n",
       "    }\n",
       "\n",
       "    .dataframe tbody tr th {\n",
       "        vertical-align: top;\n",
       "    }\n",
       "\n",
       "    .dataframe thead th {\n",
       "        text-align: right;\n",
       "    }\n",
       "</style>\n",
       "<table border=\"1\" class=\"dataframe\">\n",
       "  <thead>\n",
       "    <tr style=\"text-align: right;\">\n",
       "      <th></th>\n",
       "      <th>lower bound</th>\n",
       "      <th>upper bound</th>\n",
       "      <th>count</th>\n",
       "    </tr>\n",
       "  </thead>\n",
       "  <tbody>\n",
       "    <tr>\n",
       "      <th>0</th>\n",
       "      <td>0.0</td>\n",
       "      <td>12000.0</td>\n",
       "      <td>256163.0</td>\n",
       "    </tr>\n",
       "    <tr>\n",
       "      <th>1</th>\n",
       "      <td>12000.0</td>\n",
       "      <td>17000.0</td>\n",
       "      <td>273169.0</td>\n",
       "    </tr>\n",
       "    <tr>\n",
       "      <th>2</th>\n",
       "      <td>17000.0</td>\n",
       "      <td>22000.0</td>\n",
       "      <td>270471.0</td>\n",
       "    </tr>\n",
       "    <tr>\n",
       "      <th>3</th>\n",
       "      <td>22000.0</td>\n",
       "      <td>31000.0</td>\n",
       "      <td>276751.0</td>\n",
       "    </tr>\n",
       "    <tr>\n",
       "      <th>4</th>\n",
       "      <td>31000.0</td>\n",
       "      <td>55000.0</td>\n",
       "      <td>227357.0</td>\n",
       "    </tr>\n",
       "    <tr>\n",
       "      <th>5</th>\n",
       "      <td>55000.0</td>\n",
       "      <td>90000.0</td>\n",
       "      <td>21528.0</td>\n",
       "    </tr>\n",
       "    <tr>\n",
       "      <th>6</th>\n",
       "      <td>90000.0</td>\n",
       "      <td>150000.0</td>\n",
       "      <td>3038.0</td>\n",
       "    </tr>\n",
       "    <tr>\n",
       "      <th>7</th>\n",
       "      <td>150000.0</td>\n",
       "      <td>200000.0</td>\n",
       "      <td>811.0</td>\n",
       "    </tr>\n",
       "    <tr>\n",
       "      <th>8</th>\n",
       "      <td>200000.0</td>\n",
       "      <td>NaN</td>\n",
       "      <td>958.0</td>\n",
       "    </tr>\n",
       "  </tbody>\n",
       "</table>\n",
       "</div>"
      ],
      "text/plain": [
       "   lower bound  upper bound     count\n",
       "0          0.0      12000.0  256163.0\n",
       "1      12000.0      17000.0  273169.0\n",
       "2      17000.0      22000.0  270471.0\n",
       "3      22000.0      31000.0  276751.0\n",
       "4      31000.0      55000.0  227357.0\n",
       "5      55000.0      90000.0   21528.0\n",
       "6      90000.0     150000.0    3038.0\n",
       "7     150000.0     200000.0     811.0\n",
       "8     200000.0          NaN     958.0"
      ]
     },
     "execution_count": 10,
     "metadata": {},
     "output_type": "execute_result"
    }
   ],
   "source": [
    "price_count = pd.DataFrame({'lower bound':[], 'upper bound':[], 'count': []})\n",
    "for i in range(len(priceInterval)):\n",
    "    lower = priceInterval[i]\n",
    "    if i < len(priceInterval) - 1:\n",
    "        upper = priceInterval[i + 1]\n",
    "        rowCount = df_pa.loc[(df_pa >= lower) & (df_pa < upper)].shape[0]\n",
    "        price_count.loc[len(price_count.index)] = [lower, upper, rowCount]\n",
    "    else:\n",
    "        rowCount = df_pa.loc[(df_pa >= lower)].shape[0]\n",
    "        price_count.loc[len(price_count.index)] = [lower, np.nan, rowCount]\n",
    "        break\n",
    "\n",
    "price_count"
   ]
  },
  {
   "cell_type": "markdown",
   "metadata": {},
   "source": [
    "Here we count the number of rows in each price range. Since most ranges have more than 200k of data points, this price categorization is good enough for training and predicting.\n",
    "\n",
    "However, above $15k, there are only 1750 observations; it can be a problem when the model needs to predict the price for expensive cars. That is why we view them as *outliers*, and **do not train or test** on those data. "
   ]
  },
  {
   "cell_type": "markdown",
   "metadata": {},
   "source": [
    "### Create Price Lables"
   ]
  },
  {
   "cell_type": "code",
   "execution_count": 32,
   "metadata": {},
   "outputs": [],
   "source": [
    "maxPrice = 150000\n",
    "df_WIP = df_WIP.loc[df_WIP['price'] < maxPrice]"
   ]
  },
  {
   "cell_type": "code",
   "execution_count": 33,
   "metadata": {},
   "outputs": [],
   "source": [
    "# create price labels\n",
    "price_labels = []\n",
    "df_WIP.loc[:, \"price_range\"] = 0\n",
    "for i, p in enumerate(priceInterval):\n",
    "    if i < len(priceInterval) - 1 and priceInterval[i + 1] <= maxPrice:\n",
    "        price_labels.append(\"$\" + str(p) + \" to \" + str(priceInterval[i + 1]))\n",
    "        p1 = priceInterval[i + 1]\n",
    "        df_WIP.loc[(p <= df_WIP['price']) & (df_WIP['price'] < p1), ['price_range']] = i"
   ]
  },
  {
   "cell_type": "markdown",
   "metadata": {},
   "source": [
    "This is our final dataset with 330 different variables."
   ]
  },
  {
   "cell_type": "code",
   "execution_count": 34,
   "metadata": {},
   "outputs": [
    {
     "data": {
      "text/html": [
       "<div>\n",
       "<style scoped>\n",
       "    .dataframe tbody tr th:only-of-type {\n",
       "        vertical-align: middle;\n",
       "    }\n",
       "\n",
       "    .dataframe tbody tr th {\n",
       "        vertical-align: top;\n",
       "    }\n",
       "\n",
       "    .dataframe thead th {\n",
       "        text-align: right;\n",
       "    }\n",
       "</style>\n",
       "<table border=\"1\" class=\"dataframe\">\n",
       "  <thead>\n",
       "    <tr style=\"text-align: right;\">\n",
       "      <th></th>\n",
       "      <th>daysonmarket</th>\n",
       "      <th>engine_displacement</th>\n",
       "      <th>frame_damaged</th>\n",
       "      <th>has_accidents</th>\n",
       "      <th>horsepower</th>\n",
       "      <th>mileage</th>\n",
       "      <th>owner_count</th>\n",
       "      <th>price</th>\n",
       "      <th>year</th>\n",
       "      <th>101A Mid Equipment Group</th>\n",
       "      <th>...</th>\n",
       "      <th>Saab</th>\n",
       "      <th>Saturn</th>\n",
       "      <th>Scion</th>\n",
       "      <th>Subaru</th>\n",
       "      <th>Suzuki</th>\n",
       "      <th>Toyota</th>\n",
       "      <th>Volkswagen</th>\n",
       "      <th>Volvo</th>\n",
       "      <th>smart</th>\n",
       "      <th>price_range</th>\n",
       "    </tr>\n",
       "  </thead>\n",
       "  <tbody>\n",
       "    <tr>\n",
       "      <th>0</th>\n",
       "      <td>1252</td>\n",
       "      <td>1700.0</td>\n",
       "      <td>0</td>\n",
       "      <td>0</td>\n",
       "      <td>237.0</td>\n",
       "      <td>301.0</td>\n",
       "      <td>2.0</td>\n",
       "      <td>97579.0</td>\n",
       "      <td>2015</td>\n",
       "      <td>0</td>\n",
       "      <td>...</td>\n",
       "      <td>0</td>\n",
       "      <td>0</td>\n",
       "      <td>0</td>\n",
       "      <td>0</td>\n",
       "      <td>0</td>\n",
       "      <td>0</td>\n",
       "      <td>0</td>\n",
       "      <td>0</td>\n",
       "      <td>0</td>\n",
       "      <td>6</td>\n",
       "    </tr>\n",
       "    <tr>\n",
       "      <th>1</th>\n",
       "      <td>1233</td>\n",
       "      <td>3000.0</td>\n",
       "      <td>0</td>\n",
       "      <td>0</td>\n",
       "      <td>320.0</td>\n",
       "      <td>6903.0</td>\n",
       "      <td>2.0</td>\n",
       "      <td>58995.0</td>\n",
       "      <td>2016</td>\n",
       "      <td>0</td>\n",
       "      <td>...</td>\n",
       "      <td>0</td>\n",
       "      <td>0</td>\n",
       "      <td>0</td>\n",
       "      <td>0</td>\n",
       "      <td>0</td>\n",
       "      <td>0</td>\n",
       "      <td>0</td>\n",
       "      <td>0</td>\n",
       "      <td>0</td>\n",
       "      <td>5</td>\n",
       "    </tr>\n",
       "    <tr>\n",
       "      <th>2</th>\n",
       "      <td>33</td>\n",
       "      <td>1600.0</td>\n",
       "      <td>0</td>\n",
       "      <td>0</td>\n",
       "      <td>201.0</td>\n",
       "      <td>30707.0</td>\n",
       "      <td>1.0</td>\n",
       "      <td>13324.0</td>\n",
       "      <td>2017</td>\n",
       "      <td>0</td>\n",
       "      <td>...</td>\n",
       "      <td>0</td>\n",
       "      <td>0</td>\n",
       "      <td>0</td>\n",
       "      <td>0</td>\n",
       "      <td>0</td>\n",
       "      <td>0</td>\n",
       "      <td>0</td>\n",
       "      <td>0</td>\n",
       "      <td>0</td>\n",
       "      <td>1</td>\n",
       "    </tr>\n",
       "    <tr>\n",
       "      <th>3</th>\n",
       "      <td>55</td>\n",
       "      <td>1500.0</td>\n",
       "      <td>0</td>\n",
       "      <td>0</td>\n",
       "      <td>160.0</td>\n",
       "      <td>42394.0</td>\n",
       "      <td>1.0</td>\n",
       "      <td>14639.0</td>\n",
       "      <td>2018</td>\n",
       "      <td>0</td>\n",
       "      <td>...</td>\n",
       "      <td>0</td>\n",
       "      <td>0</td>\n",
       "      <td>0</td>\n",
       "      <td>0</td>\n",
       "      <td>0</td>\n",
       "      <td>0</td>\n",
       "      <td>0</td>\n",
       "      <td>0</td>\n",
       "      <td>0</td>\n",
       "      <td>1</td>\n",
       "    </tr>\n",
       "    <tr>\n",
       "      <th>4</th>\n",
       "      <td>36</td>\n",
       "      <td>3500.0</td>\n",
       "      <td>0</td>\n",
       "      <td>0</td>\n",
       "      <td>311.0</td>\n",
       "      <td>62251.0</td>\n",
       "      <td>1.0</td>\n",
       "      <td>32000.0</td>\n",
       "      <td>2018</td>\n",
       "      <td>0</td>\n",
       "      <td>...</td>\n",
       "      <td>0</td>\n",
       "      <td>0</td>\n",
       "      <td>0</td>\n",
       "      <td>0</td>\n",
       "      <td>0</td>\n",
       "      <td>0</td>\n",
       "      <td>0</td>\n",
       "      <td>0</td>\n",
       "      <td>0</td>\n",
       "      <td>4</td>\n",
       "    </tr>\n",
       "  </tbody>\n",
       "</table>\n",
       "<p>5 rows × 330 columns</p>\n",
       "</div>"
      ],
      "text/plain": [
       "   daysonmarket  engine_displacement  frame_damaged  has_accidents  \\\n",
       "0          1252               1700.0              0              0   \n",
       "1          1233               3000.0              0              0   \n",
       "2            33               1600.0              0              0   \n",
       "3            55               1500.0              0              0   \n",
       "4            36               3500.0              0              0   \n",
       "\n",
       "   horsepower  mileage  owner_count    price  year   101A Mid Equipment Group  \\\n",
       "0       237.0    301.0          2.0  97579.0  2015                          0   \n",
       "1       320.0   6903.0          2.0  58995.0  2016                          0   \n",
       "2       201.0  30707.0          1.0  13324.0  2017                          0   \n",
       "3       160.0  42394.0          1.0  14639.0  2018                          0   \n",
       "4       311.0  62251.0          1.0  32000.0  2018                          0   \n",
       "\n",
       "   ...  Saab  Saturn  Scion  Subaru  Suzuki  Toyota  Volkswagen  Volvo  smart  \\\n",
       "0  ...     0       0      0       0       0       0           0      0      0   \n",
       "1  ...     0       0      0       0       0       0           0      0      0   \n",
       "2  ...     0       0      0       0       0       0           0      0      0   \n",
       "3  ...     0       0      0       0       0       0           0      0      0   \n",
       "4  ...     0       0      0       0       0       0           0      0      0   \n",
       "\n",
       "   price_range  \n",
       "0            6  \n",
       "1            5  \n",
       "2            1  \n",
       "3            1  \n",
       "4            4  \n",
       "\n",
       "[5 rows x 330 columns]"
      ]
     },
     "execution_count": 34,
     "metadata": {},
     "output_type": "execute_result"
    }
   ],
   "source": [
    "df_WIP.head()"
   ]
  },
  {
   "cell_type": "markdown",
   "metadata": {},
   "source": [
    "# Proposed Solution\n",
    "\n",
    "We propose a comparison across multiple algorithms for solving our problem. Potential methods for solving our problem include linear regression, support vector machine (SVM), and random forest. Implementing a variety of supervised algorithms would afford us an opportunity to approach the problem from multiple perspectives, and would allow an opportunity to compare the performance of these various methods. For a benchmark, we will compare our results with other models that have been trained on this data. One such project can be found [here](https://www.kaggle.com/code/valchovalev/car-predictor-usa).\n",
    "\n",
    "SVM has been used in multiple similar studies for its ability to deal with datasets with more dimensions. SVM can make a binary decision and decide in which among the two categories the input belongs to. KNN compares the new data to all the existing records to decide the best match. Decision trees are best for nominal categories. "
   ]
  },
  {
   "cell_type": "markdown",
   "metadata": {},
   "source": [
    "# Evaluation Metrics\n",
    "\n",
    "The performance of our model will be evaluated with standard and repeated k-folds cross validation. Accuracy will be compared across models to determine which is most accurate. Cross validation is where a given data set is split into a K number of sections/folds where each fold is used as a testing set at some point <a name=\"k\"></a>[<sup>[5]</sup>](#knote).\n",
    "\n",
    "Repeated K-Folds will allow us to test multiple hyperparameter settings and weights, which will allow us to evaluate the results of our early statistical analysis and the correlations predicted therein."
   ]
  },
  {
   "cell_type": "markdown",
   "metadata": {},
   "source": [
    "# Results"
   ]
  },
  {
   "cell_type": "markdown",
   "metadata": {},
   "source": [
    "### Model Selection\n",
    "##### Splitting data into training and test sets"
   ]
  },
  {
   "cell_type": "markdown",
   "metadata": {},
   "source": [
    "To begin answering our problem statement, we need to split our data for training and testing."
   ]
  },
  {
   "cell_type": "code",
   "execution_count": 35,
   "metadata": {},
   "outputs": [],
   "source": [
    "#split to target variable/rest\n",
    "\n",
    "y = df_WIP['price_range']\n",
    "# remove price variable from the predictors\n",
    "X = df_WIP.drop(['price_range', \"price\"], axis = 1)\n",
    "del df_WIP"
   ]
  },
  {
   "cell_type": "code",
   "execution_count": 36,
   "metadata": {},
   "outputs": [],
   "source": [
    "from sklearn.preprocessing import StandardScaler\n",
    "from sklearn import preprocessing\n",
    "from sklearn.linear_model import LogisticRegression\n",
    "from sklearn.pipeline import Pipeline\n",
    "from sklearn.impute import SimpleImputer\n",
    "from sklearn.model_selection import GridSearchCV, train_test_split\n",
    "from sklearn.metrics import plot_confusion_matrix, f1_score, confusion_matrix"
   ]
  },
  {
   "cell_type": "code",
   "execution_count": 37,
   "metadata": {},
   "outputs": [],
   "source": [
    "#This encodes our categories for price_range in a format usable by the model\n",
    "le = preprocessing.LabelEncoder()\n",
    "le.fit(y)\n",
    "y = le.transform(y)"
   ]
  },
  {
   "cell_type": "code",
   "execution_count": 38,
   "metadata": {},
   "outputs": [],
   "source": [
    "X_train, X_test, y_train, y_test = train_test_split(X, y, test_size = 0.05, train_size=0.02, random_state = 42)"
   ]
  },
  {
   "cell_type": "markdown",
   "metadata": {},
   "source": [
    "In this part, the ordered price label is our predicting value. We used 2% of the data (about 30k rows) as the training set, and 5% of the data as the test set. The sample is small because SVM cannot be trained parallelly. It may take days to train on the full dataset. "
   ]
  },
  {
   "cell_type": "markdown",
   "metadata": {},
   "source": [
    "### SVM"
   ]
  },
  {
   "cell_type": "code",
   "execution_count": 17,
   "metadata": {},
   "outputs": [
    {
     "data": {
      "text/plain": [
       "0.6767584005781043"
      ]
     },
     "execution_count": 17,
     "metadata": {},
     "output_type": "execute_result"
    }
   ],
   "source": [
    "from sklearn.svm import SVC\n",
    "scaler = StandardScaler()\n",
    "svm = SVC()\n",
    "pipe = Pipeline(steps=[(\"scaler\", scaler), (\"svm\", svm)])\n",
    "pipe.fit(X_train, y_train)\n",
    "pipe.score(X_test, y_test)"
   ]
  },
  {
   "cell_type": "markdown",
   "metadata": {},
   "source": [
    "The accuracy for the SVM classifier is 0.6767584005781043. The training process spends about 10 minutes on 30k of data. Therefore, SVM with RBF kernel is hard to train for a large dataset with many variables and rows. We also tried linear SVM, but it is also slow and does not perform well. "
   ]
  },
  {
   "cell_type": "markdown",
   "metadata": {},
   "source": [
    "### Logistic Regression"
   ]
  },
  {
   "cell_type": "code",
   "execution_count": 18,
   "metadata": {},
   "outputs": [
    {
     "name": "stderr",
     "output_type": "stream",
     "text": [
      "c:\\Users\\dmusa\\AppData\\Local\\Programs\\Python\\Python310\\lib\\site-packages\\sklearn\\linear_model\\_logistic.py:444: ConvergenceWarning: lbfgs failed to converge (status=1):\n",
      "STOP: TOTAL NO. of ITERATIONS REACHED LIMIT.\n",
      "\n",
      "Increase the number of iterations (max_iter) or scale the data as shown in:\n",
      "    https://scikit-learn.org/stable/modules/preprocessing.html\n",
      "Please also refer to the documentation for alternative solver options:\n",
      "    https://scikit-learn.org/stable/modules/linear_model.html#logistic-regression\n",
      "  n_iter_i = _check_optimize_result(\n"
     ]
    },
    {
     "data": {
      "text/plain": [
       "0.6820727447910394"
      ]
     },
     "execution_count": 18,
     "metadata": {},
     "output_type": "execute_result"
    }
   ],
   "source": [
    "from sklearn.linear_model import LogisticRegression\n",
    "scaler = StandardScaler()\n",
    "lr = LogisticRegression()\n",
    "pipe = Pipeline(steps=[(\"scaler\", scaler), (\"lr\", lr)])\n",
    "pipe.fit(X_train, y_train)\n",
    "pipe.score(X_test, y_test)"
   ]
  },
  {
   "cell_type": "markdown",
   "metadata": {},
   "source": [
    "The accuracy for the Logistic regression classifier is 0.6820727447910394. \n",
    "\n",
    "Logistic regression is way faster than SVM. Although it fails to converge because the number of iterations reaches its default limit, but it has a better accuracy than SVM. Maybe it will perform better after polynomially transforming the variables. \n",
    "\n",
    "We do not use sklearn.preprocessing.PolynomialFeatures because the dataset is wide, it will produce an uncontrollable large matrix. "
   ]
  },
  {
   "cell_type": "markdown",
   "metadata": {},
   "source": [
    "### Random Forest"
   ]
  },
  {
   "cell_type": "code",
   "execution_count": 39,
   "metadata": {},
   "outputs": [
    {
     "data": {
      "text/plain": [
       "0.723322895339034"
      ]
     },
     "execution_count": 39,
     "metadata": {},
     "output_type": "execute_result"
    }
   ],
   "source": [
    "from sklearn.ensemble import RandomForestClassifier\n",
    "scaler = StandardScaler()\n",
    "rf = RandomForestClassifier(n_jobs=-1)\n",
    "pipe = Pipeline(steps=[(\"scaler\", scaler), (\"rf\", rf)])\n",
    "pipe.fit(X_train, y_train)\n",
    "pipe.score(X_test, y_test)"
   ]
  },
  {
   "cell_type": "markdown",
   "metadata": {},
   "source": [
    "The accuracy for the random forest classifier is 0.7219529085872576,\n",
    "\n",
    "Random forest is faster and more accurate than the other two classifiers.\n",
    "\n",
    " Using the defalut setting and limited training set, it has a solid performance, hence, *we will focus on random forest for the next step when finding the best hyperparameters.*"
   ]
  },
  {
   "cell_type": "markdown",
   "metadata": {},
   "source": [
    "### Grid Search the Best Hyperparameter for Random Forest"
   ]
  },
  {
   "cell_type": "code",
   "execution_count": 40,
   "metadata": {},
   "outputs": [],
   "source": [
    "X_train, X_test, y_train, y_test = train_test_split(X, y, test_size = 0.4, random_state = 42)\n",
    "del X, y"
   ]
  },
  {
   "cell_type": "code",
   "execution_count": 48,
   "metadata": {},
   "outputs": [],
   "source": [
    "param_grid = {'rf__max_depth' : (100, 500), 'rf__min_samples_split': (2, 5)}\n",
    "gscv = GridSearchCV(estimator = pipe, param_grid = param_grid, cv = 3, scoring = 'accuracy', n_jobs=-1)"
   ]
  },
  {
   "cell_type": "code",
   "execution_count": 49,
   "metadata": {},
   "outputs": [
    {
     "data": {
      "text/plain": [
       "GridSearchCV(cv=3,\n",
       "             estimator=Pipeline(steps=[('scaler', StandardScaler()),\n",
       "                                       ('rf',\n",
       "                                        RandomForestClassifier(n_jobs=-1))]),\n",
       "             n_jobs=-1,\n",
       "             param_grid={'rf__max_depth': (100, 500),\n",
       "                         'rf__min_samples_split': (2, 5)},\n",
       "             scoring='accuracy')"
      ]
     },
     "execution_count": 49,
     "metadata": {},
     "output_type": "execute_result"
    }
   ],
   "source": [
    "gscv.fit(X_train, y_train)"
   ]
  },
  {
   "cell_type": "code",
   "execution_count": 50,
   "metadata": {},
   "outputs": [
    {
     "data": {
      "text/plain": [
       "{'mean_fit_time': array([203.5166707 , 183.46433981, 202.13934914, 200.94667347]),\n",
       " 'std_fit_time': array([22.02417077, 23.37050894, 21.45030409, 24.7763946 ]),\n",
       " 'mean_score_time': array([5.93867437, 6.27699796, 6.17367013, 4.48099987]),\n",
       " 'std_score_time': array([1.2244741 , 0.35115344, 1.44919172, 0.78518385]),\n",
       " 'param_rf__max_depth': masked_array(data=[100, 100, 500, 500],\n",
       "              mask=[False, False, False, False],\n",
       "        fill_value='?',\n",
       "             dtype=object),\n",
       " 'param_rf__min_samples_split': masked_array(data=[2, 5, 2, 5],\n",
       "              mask=[False, False, False, False],\n",
       "        fill_value='?',\n",
       "             dtype=object),\n",
       " 'params': [{'rf__max_depth': 100, 'rf__min_samples_split': 2},\n",
       "  {'rf__max_depth': 100, 'rf__min_samples_split': 5},\n",
       "  {'rf__max_depth': 500, 'rf__min_samples_split': 2},\n",
       "  {'rf__max_depth': 500, 'rf__min_samples_split': 5}],\n",
       " 'split0_test_score': array([0.78652294, 0.79110337, 0.78553309, 0.79081356]),\n",
       " 'split1_test_score': array([0.78623233, 0.79040253, 0.78632643, 0.79144884]),\n",
       " 'split2_test_score': array([0.78518226, 0.79171607, 0.7863189 , 0.79052673]),\n",
       " 'mean_test_score': array([0.78597918, 0.79107399, 0.78605947, 0.79092971]),\n",
       " 'std_test_score': array([0.00057586, 0.00053665, 0.00037222, 0.0003853 ]),\n",
       " 'rank_test_score': array([4, 1, 3, 2])}"
      ]
     },
     "execution_count": 50,
     "metadata": {},
     "output_type": "execute_result"
    }
   ],
   "source": [
    "gscv.cv_results_"
   ]
  },
  {
   "cell_type": "code",
   "execution_count": null,
   "metadata": {},
   "outputs": [
    {
     "data": {
      "text/plain": [
       "{'rf__max_depth': 500, 'rf__min_samples_split': 2}"
      ]
     },
     "metadata": {},
     "output_type": "display_data"
    }
   ],
   "source": [
    "# the better parameters\n",
    "gscv.cv_results_[\"params\"][gscv.cv_results_['rank_test_score'][-1]]"
   ]
  },
  {
   "cell_type": "markdown",
   "metadata": {},
   "source": [
    "Score after estimator has been refit."
   ]
  },
  {
   "cell_type": "code",
   "execution_count": 51,
   "metadata": {},
   "outputs": [
    {
     "data": {
      "text/plain": [
       "0.7972302880553115"
      ]
     },
     "execution_count": 51,
     "metadata": {},
     "output_type": "execute_result"
    }
   ],
   "source": [
    "gscv.score(X_test, y_test)"
   ]
  },
  {
   "cell_type": "markdown",
   "metadata": {},
   "source": [
    "After refitting, the accuracy score went from 0.7219529085872576 to 0.0.7972302880553115.  \n",
    "The model performs better with more data. "
   ]
  },
  {
   "cell_type": "markdown",
   "metadata": {},
   "source": [
    "### Confusion Matrix"
   ]
  },
  {
   "cell_type": "code",
   "execution_count": 52,
   "metadata": {},
   "outputs": [],
   "source": [
    "from sklearn.metrics import confusion_matrix, ConfusionMatrixDisplay, classification_report\n",
    "y_pred = gscv.predict(X_test)"
   ]
  },
  {
   "cell_type": "code",
   "execution_count": 57,
   "metadata": {},
   "outputs": [
    {
     "name": "stdout",
     "output_type": "stream",
     "text": [
      "              precision    recall  f1-score   support\n",
      "\n",
      "           0       0.89      0.90      0.89    102631\n",
      "           1       0.74      0.75      0.75    109171\n",
      "           2       0.72      0.70      0.71    107986\n",
      "           3       0.78      0.79      0.78    110748\n",
      "           4       0.86      0.88      0.87     91017\n",
      "           5       0.86      0.65      0.74      8636\n",
      "           6       0.87      0.58      0.70      1202\n",
      "\n",
      "    accuracy                           0.80    531391\n",
      "   macro avg       0.82      0.75      0.78    531391\n",
      "weighted avg       0.80      0.80      0.80    531391\n",
      "\n"
     ]
    },
    {
     "data": {
      "image/png": "[encoded data removed]",
      "text/plain": [
       "<Figure size 1080x1080 with 2 Axes>"
      ]
     },
     "metadata": {
      "needs_background": "light"
     },
     "output_type": "display_data"
    }
   ],
   "source": [
    "cm = confusion_matrix(y_test, y_pred)\n",
    "print(classification_report(y_test, y_pred))\n",
    "disp = ConfusionMatrixDisplay(confusion_matrix=cm, display_labels=gscv.classes_)\n",
    "fig, ax = plt.subplots(figsize=(15,15))\n",
    "disp.plot(ax=ax)\n",
    "plt.show()"
   ]
  },
  {
   "cell_type": "markdown",
   "metadata": {},
   "source": [
    "From the confusion matrix, we can see class 5 and 6 (higher priced cars) had the least true positives. This makes sense given we had less cars the higher the class. \n",
    "Class 0 (cheapest cars) had the highest overall F1 score. This makes sense since we had the most cheap cars.\n",
    "We can also see that there were the most misclassification errors between classes and their neighbors. For example, class 2 was mainly misclassified as either class 1 or class 3."
   ]
  },
  {
   "cell_type": "markdown",
   "metadata": {},
   "source": [
    "# Discussion\n",
    "\n",
    "### Interpreting the result\n",
    "\n",
    "After attempting to fit SVM, Logistic Regression, and Random Forest, we found that Random Forest gave us the highest accuracy and worked best with our computational limits. To optimize our parameters for Random Forest, we used a pipeline gridsearch. After refitting, our Random Forest model predits used car price with 80% accuracy. \n",
    "\n",
    "The accuracy of the logistic regression and SVM models was low due to the complex decision boundaries in our data. These models tend to perform better on a binary classification task, and our problem had 8 possible classes.\n",
    "\n",
    "Random Forest does not have this problem, as decision tries can more accurately draw boundaries between data that is not linearly separable. Our results support this, as our model with fully-tuned hyperparamaters as per gridsearch cross validation was at least 10 points more accurate than SVM or logistic regression. \n",
    "\n",
    "In the grid search section, we examine the choice of max_depth and min_samples_split. For a random forest, max_depth limits the depth for each tree. A deeper tree is more powerful at fitting. The parameter min_samples_split stops creating new nodes after the number of samples waiting for split reaches the limit. A larger min_samples_split will reduce the tree depth and prevent overfitting.\n",
    "\n",
    "We use 3-fold cross-validation to find better parameters. Accuracy is our metric to evaluate different sets of parameters, because we emphasize what proportion can the model predict correctly.\n",
    "\n",
    "Based on the cv result, when max_depth is 500, its accuracy is slightly better than the max_depth of 50. The result is reasonable since a single tree is trained with incomplete data, so they are relatively weak on the whole training dataset. Even if a single tree is too deep to overfit, it is overfitting its own samples. Stronger trees will not boost generalization error, but makes the model perform better.  \n",
    "min_samples_split is more influential, but the difference is also small. Similar to tree depth, when a single tree is stronger, the overall prediction will be more accurate.  \n",
    "\n",
    "The idea here is to increase the fitting ability for each tree in the model. Therefore, we choose 500 max_depth and 2 min_samples_split. "
   ]
  },
  {
   "cell_type": "markdown",
   "metadata": {},
   "source": [
    "\n",
    "### Limitations\n",
    "\n",
    "Of the 66 variables included in our dataset, we trained our models on only 11. If we had included more our findings would hold more statistical power, however running gridsearch on the hyperparameters we chose to keep already takes nearly two hours. The increased computational cost of including those cut variables would have been significant. Another computing conern is we had to cut some Grid Search parameters because we ran out of RAM. In the future, we'd need to use a computer with better computing power. Furthermore, we had a couple wealthy car outliers that we cut out. There might have been a better way to deal with them. Another concern is model_options had so many unqiue features that one could ask if this lead to overfitting.\n",
    "\n",
    "Decision trees also have an inability to work well with numeric values, hence the need for ranges, but this leads to inaccuracies. \n"
   ]
  },
  {
   "cell_type": "markdown",
   "metadata": {},
   "source": [
    "### Ethics & Privacy\n",
    "\n",
    "The data we will be using is entirely anonymous. A previously considered dataset included the VIN (Vehicle Identification Number) and location of sale, which could have potentially been used to identify current or past owners of the cars listed. We decided to use this new dataset as it contains more useful variables, and does not include potentially compromising information. We also remvoved location of the car for privacy concerns, however, it is possible the location would have an impact on car price. Cars from more wealthy neighborhoods are likely to be more expensive. \n"
   ]
  },
  {
   "cell_type": "markdown",
   "metadata": {},
   "source": [
    "### Conclusion\n",
    "\n",
    "After refitting using Grid Search, our Random Forest model predits used car price with almost 80% accuracy. Compared to other attempts to model used car prices, whose accuracy ranged from 60-90%, <a name=\"pudaruth\"></a>[<sup>[3]</sup>](#pudaruthnote) <a name=\"enis\"></a>[<sup>[4]</sup>](#enisnote), our accuracy is not too far off. In the future, we would like to deal with outliers better, use a system with better computing power, and more complex models such as neural networks. "
   ]
  },
  {
   "cell_type": "markdown",
   "metadata": {},
   "source": [
    "# Footnotes\n",
    "<a name=\"btsnote\"></a>1.[^](#bts): [Number of U.S. Aircraft, Vehicles, Vessels, and Other Conveyances](https://www.bts.gov/content/number-us-aircraft-vehicles-vessels-and-other-conveyances)<br> \n",
    "<a name=\"usedbtsnote\"></a>2.[^](#usedbts): [New and Used Passenger Car and Light Truck Sales and Leases](https://www.bts.gov/content/new-and-used-passenger-car-sales-and-leases-thousands-vehicles)<br>\n",
    "<a name=\"pudaruthnote\"></a>3.[^](#pudaruth): Pudaruth, Sameerchand. \"Predicting the price of used cars using machine learning techniques.\" Int. J. Inf. Comput. Technol 4.7 (2014): 753-764. http://ripublication.com/irph/ijict_spl/ijictv4n7spl_17.pdf <br>\n",
    "<a name=\"enisnote\"></a>4.[^](#enis): Gegic, Enis, et al. \"Car price prediction using machine learning techniques.\" TEM Journal 8.1 (2019): 113. https://www.temjournal.com/content/81/TEMJournalFebruary2019_113_118.pdf <br>\n",
    "<a name=\"knote\"></a>5.[^](#k): [K-Fold Cross Validation](https://medium.datadriveninvestor.com/k-fold-cross-validation-6b8518070833)<br>"
   ]
  }
 ],
 "metadata": {
  "interpreter": {
   "hash": "94a5aa3a13a8f613ed844f511d6486552586af4e887fc759bb11a2ad2506b204"
  },
  "kernelspec": {
   "display_name": "Python 3.7.10 ('massivepotree')",
   "language": "python",
   "name": "python3"
  },
  "language_info": {
   "codemirror_mode": {
    "name": "ipython",
    "version": 3
   },
   "file_extension": ".py",
   "mimetype": "text/x-python",
   "name": "python",
   "nbconvert_exporter": "python",
   "pygments_lexer": "ipython3",
   "version": "3.7.10"
  }
 },
 "nbformat": 4,
 "nbformat_minor": 2
}
