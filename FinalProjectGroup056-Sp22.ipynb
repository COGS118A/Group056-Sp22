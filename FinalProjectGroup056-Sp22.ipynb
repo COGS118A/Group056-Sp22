{
 "cells": [
  {
   "cell_type": "code",
   "execution_count": 10,
   "metadata": {},
   "outputs": [],
   "source": [
    "import pandas as pd\n",
    "import numpy as np\n",
    "import seaborn as sns\n",
    "import matplotlib as plt"
   ]
  },
  {
   "cell_type": "code",
   "execution_count": 2,
   "metadata": {},
   "outputs": [
    {
     "name": "stdout",
     "output_type": "stream",
     "text": [
      "(1330246, 19)\n"
     ]
    },
    {
     "data": {
      "text/html": [
       "<div>\n",
       "<style scoped>\n",
       "    .dataframe tbody tr th:only-of-type {\n",
       "        vertical-align: middle;\n",
       "    }\n",
       "\n",
       "    .dataframe tbody tr th {\n",
       "        vertical-align: top;\n",
       "    }\n",
       "\n",
       "    .dataframe thead th {\n",
       "        text-align: right;\n",
       "    }\n",
       "</style>\n",
       "<table border=\"1\" class=\"dataframe\">\n",
       "  <thead>\n",
       "    <tr style=\"text-align: right;\">\n",
       "      <th></th>\n",
       "      <th>body_type</th>\n",
       "      <th>latitude</th>\n",
       "      <th>longitude</th>\n",
       "      <th>daysonmarket</th>\n",
       "      <th>engine_displacement</th>\n",
       "      <th>frame_damaged</th>\n",
       "      <th>fuel_type</th>\n",
       "      <th>has_accidents</th>\n",
       "      <th>horsepower</th>\n",
       "      <th>listing_color</th>\n",
       "      <th>major_options</th>\n",
       "      <th>make_name</th>\n",
       "      <th>mileage</th>\n",
       "      <th>model_name</th>\n",
       "      <th>owner_count</th>\n",
       "      <th>price</th>\n",
       "      <th>transmission</th>\n",
       "      <th>wheel_system</th>\n",
       "      <th>year</th>\n",
       "    </tr>\n",
       "  </thead>\n",
       "  <tbody>\n",
       "    <tr>\n",
       "      <th>0</th>\n",
       "      <td>Coupe</td>\n",
       "      <td>18.3467</td>\n",
       "      <td>-66.1098</td>\n",
       "      <td>1252</td>\n",
       "      <td>1700.0</td>\n",
       "      <td>False</td>\n",
       "      <td>Gasoline</td>\n",
       "      <td>False</td>\n",
       "      <td>237.0</td>\n",
       "      <td>RED</td>\n",
       "      <td>['Leather Seats']</td>\n",
       "      <td>Alfa Romeo</td>\n",
       "      <td>301.0</td>\n",
       "      <td>4C</td>\n",
       "      <td>2.0</td>\n",
       "      <td>97579.0</td>\n",
       "      <td>A</td>\n",
       "      <td>RWD</td>\n",
       "      <td>2015</td>\n",
       "    </tr>\n",
       "    <tr>\n",
       "      <th>1</th>\n",
       "      <td>Sedan</td>\n",
       "      <td>18.3467</td>\n",
       "      <td>-66.1098</td>\n",
       "      <td>1233</td>\n",
       "      <td>3000.0</td>\n",
       "      <td>False</td>\n",
       "      <td>Gasoline</td>\n",
       "      <td>False</td>\n",
       "      <td>320.0</td>\n",
       "      <td>SILVER</td>\n",
       "      <td>['Sunroof/Moonroof', 'Alloy Wheels', 'Bluetooth']</td>\n",
       "      <td>BMW</td>\n",
       "      <td>6903.0</td>\n",
       "      <td>3 Series</td>\n",
       "      <td>2.0</td>\n",
       "      <td>58995.0</td>\n",
       "      <td>A</td>\n",
       "      <td>AWD</td>\n",
       "      <td>2016</td>\n",
       "    </tr>\n",
       "    <tr>\n",
       "      <th>2</th>\n",
       "      <td>Sedan</td>\n",
       "      <td>40.7333</td>\n",
       "      <td>-73.2587</td>\n",
       "      <td>33</td>\n",
       "      <td>1600.0</td>\n",
       "      <td>False</td>\n",
       "      <td>Gasoline</td>\n",
       "      <td>False</td>\n",
       "      <td>201.0</td>\n",
       "      <td>BLACK</td>\n",
       "      <td>['Sport Package', 'Sunroof/Moonroof', 'Adaptiv...</td>\n",
       "      <td>Hyundai</td>\n",
       "      <td>30707.0</td>\n",
       "      <td>Elantra</td>\n",
       "      <td>1.0</td>\n",
       "      <td>13324.0</td>\n",
       "      <td>A</td>\n",
       "      <td>FWD</td>\n",
       "      <td>2017</td>\n",
       "    </tr>\n",
       "    <tr>\n",
       "      <th>3</th>\n",
       "      <td>Sedan</td>\n",
       "      <td>40.7333</td>\n",
       "      <td>-73.2587</td>\n",
       "      <td>55</td>\n",
       "      <td>1500.0</td>\n",
       "      <td>False</td>\n",
       "      <td>Gasoline</td>\n",
       "      <td>False</td>\n",
       "      <td>160.0</td>\n",
       "      <td>SILVER</td>\n",
       "      <td>['Driver Confidence Package', 'Power Package',...</td>\n",
       "      <td>Chevrolet</td>\n",
       "      <td>42394.0</td>\n",
       "      <td>Malibu</td>\n",
       "      <td>1.0</td>\n",
       "      <td>14639.0</td>\n",
       "      <td>A</td>\n",
       "      <td>FWD</td>\n",
       "      <td>2018</td>\n",
       "    </tr>\n",
       "    <tr>\n",
       "      <th>4</th>\n",
       "      <td>Coupe</td>\n",
       "      <td>40.8847</td>\n",
       "      <td>-73.8317</td>\n",
       "      <td>36</td>\n",
       "      <td>3500.0</td>\n",
       "      <td>False</td>\n",
       "      <td>Gasoline</td>\n",
       "      <td>False</td>\n",
       "      <td>311.0</td>\n",
       "      <td>BLACK</td>\n",
       "      <td>['Leather Seats', 'Sunroof/Moonroof', 'Navigat...</td>\n",
       "      <td>Lexus</td>\n",
       "      <td>62251.0</td>\n",
       "      <td>RC 350</td>\n",
       "      <td>1.0</td>\n",
       "      <td>32000.0</td>\n",
       "      <td>A</td>\n",
       "      <td>AWD</td>\n",
       "      <td>2018</td>\n",
       "    </tr>\n",
       "  </tbody>\n",
       "</table>\n",
       "</div>"
      ],
      "text/plain": [
       "  body_type  latitude  longitude  daysonmarket  engine_displacement  \\\n",
       "0     Coupe   18.3467   -66.1098          1252               1700.0   \n",
       "1     Sedan   18.3467   -66.1098          1233               3000.0   \n",
       "2     Sedan   40.7333   -73.2587            33               1600.0   \n",
       "3     Sedan   40.7333   -73.2587            55               1500.0   \n",
       "4     Coupe   40.8847   -73.8317            36               3500.0   \n",
       "\n",
       "   frame_damaged fuel_type  has_accidents  horsepower listing_color  \\\n",
       "0          False  Gasoline          False       237.0           RED   \n",
       "1          False  Gasoline          False       320.0        SILVER   \n",
       "2          False  Gasoline          False       201.0         BLACK   \n",
       "3          False  Gasoline          False       160.0        SILVER   \n",
       "4          False  Gasoline          False       311.0         BLACK   \n",
       "\n",
       "                                       major_options   make_name  mileage  \\\n",
       "0                                  ['Leather Seats']  Alfa Romeo    301.0   \n",
       "1  ['Sunroof/Moonroof', 'Alloy Wheels', 'Bluetooth']         BMW   6903.0   \n",
       "2  ['Sport Package', 'Sunroof/Moonroof', 'Adaptiv...     Hyundai  30707.0   \n",
       "3  ['Driver Confidence Package', 'Power Package',...   Chevrolet  42394.0   \n",
       "4  ['Leather Seats', 'Sunroof/Moonroof', 'Navigat...       Lexus  62251.0   \n",
       "\n",
       "  model_name  owner_count    price transmission wheel_system  year  \n",
       "0         4C          2.0  97579.0            A          RWD  2015  \n",
       "1   3 Series          2.0  58995.0            A          AWD  2016  \n",
       "2    Elantra          1.0  13324.0            A          FWD  2017  \n",
       "3     Malibu          1.0  14639.0            A          FWD  2018  \n",
       "4     RC 350          1.0  32000.0            A          AWD  2018  "
      ]
     },
     "execution_count": 2,
     "metadata": {},
     "output_type": "execute_result"
    }
   ],
   "source": [
    "df = pd.concat([pd.read_csv(\"./datasets/d1.csv\"), pd.read_csv(\"./datasets/d2.csv\"), pd.read_csv(\"./datasets/d3.csv\"), pd.read_csv(\"./datasets/d4.csv\")])\n",
    "print(df.shape)\n",
    "df.head()"
   ]
  },
  {
   "cell_type": "code",
   "execution_count": 4,
   "metadata": {},
   "outputs": [
    {
     "data": {
      "text/plain": [
       "array(['Coupe', 'Sedan', 'SUV / Crossover', 'Pickup Truck', 'Wagon',\n",
       "       'Minivan', 'Hatchback', 'Van', 'Convertible'], dtype=object)"
      ]
     },
     "execution_count": 4,
     "metadata": {},
     "output_type": "execute_result"
    }
   ],
   "source": [
    "df['body_type'].unique()"
   ]
  },
  {
   "cell_type": "code",
   "execution_count": 5,
   "metadata": {},
   "outputs": [
    {
     "data": {
      "text/plain": [
       "array([\"['Leather Seats']\",\n",
       "       \"['Sunroof/Moonroof', 'Alloy Wheels', 'Bluetooth']\",\n",
       "       \"['Sport Package', 'Sunroof/Moonroof', 'Adaptive Cruise Control', 'Audio Package', 'Bluetooth', 'Premium Wheels', 'Backup Camera', 'Blind Spot Monitoring', 'Heat Package', 'Premium Package', 'Heated Seats', 'CarPlay']\",\n",
       "       ...,\n",
       "       \"['Leather Seats', 'Navigation System', 'Premium Wheels', 'Heat Package', 'Parking Sensors', 'Heated Seats', 'Tow Package', 'Android Auto', 'Quick Order Package', 'CarPlay', 'Bluetooth', 'Backup Camera', 'Remote Start']\",\n",
       "       \"['Leather Seats', 'Navigation System', 'Adaptive Cruise Control', 'Alloy Wheels', 'Adaptive Suspension', 'Parking Sensors', 'Premium Package', 'Trim Package', 'Heated Seats', 'Multi Zone Climate Control', 'SE Package', 'Bluetooth', 'Backup Camera', 'Remote Start', 'Convenience Package']\",\n",
       "       \"['Popular Equipment Package', 'SE Package', 'Alloy Wheels', 'Bluetooth', 'Backup Camera', 'CarPlay']\"],\n",
       "      dtype=object)"
      ]
     },
     "execution_count": 5,
     "metadata": {},
     "output_type": "execute_result"
    }
   ],
   "source": [
    "df['major_options'].unique()"
   ]
  },
  {
   "cell_type": "code",
   "execution_count": 6,
   "metadata": {},
   "outputs": [
    {
     "data": {
      "text/plain": [
       "array(['Alfa Romeo', 'BMW', 'Hyundai', 'Chevrolet', 'Lexus', 'Jeep',\n",
       "       'Cadillac', 'Chrysler', 'Dodge', 'Mercedes-Benz', 'Nissan',\n",
       "       'Honda', 'Kia', 'Ford', 'Lincoln', 'Subaru', 'Audi', 'Volkswagen',\n",
       "       'Land Rover', 'Porsche', 'Jaguar', 'Mazda', 'Toyota', 'GMC',\n",
       "       'Acura', 'INFINITI', 'Maserati', 'RAM', 'FIAT', 'Volvo',\n",
       "       'Mitsubishi', 'Buick', 'Mercury', 'Saab', 'MINI', 'Ferrari',\n",
       "       'Genesis', 'Saturn', 'Bentley', 'Suzuki', 'Fisker', 'Pontiac',\n",
       "       'Lamborghini', 'smart', 'Scion', 'Hummer', 'Rolls-Royce', 'Lotus',\n",
       "       'McLaren', 'Aston Martin', 'Isuzu', 'Oldsmobile', 'Plymouth',\n",
       "       'Karma', 'Geo', 'Maybach', 'SRT', 'Datsun', 'AM General', 'Daewoo'],\n",
       "      dtype=object)"
      ]
     },
     "execution_count": 6,
     "metadata": {},
     "output_type": "execute_result"
    }
   ],
   "source": [
    "df['make_name'].unique()"
   ]
  },
  {
   "cell_type": "code",
   "execution_count": 7,
   "metadata": {},
   "outputs": [
    {
     "name": "stdout",
     "output_type": "stream",
     "text": [
      "<class 'pandas.core.frame.DataFrame'>\n",
      "Int64Index: 1330246 entries, 0 to 330245\n",
      "Data columns (total 19 columns):\n",
      " #   Column               Non-Null Count    Dtype  \n",
      "---  ------               --------------    -----  \n",
      " 0   body_type            1330246 non-null  object \n",
      " 1   latitude             1330246 non-null  float64\n",
      " 2   longitude            1330246 non-null  float64\n",
      " 3   daysonmarket         1330246 non-null  int64  \n",
      " 4   engine_displacement  1330246 non-null  float64\n",
      " 5   frame_damaged        1330246 non-null  bool   \n",
      " 6   fuel_type            1330246 non-null  object \n",
      " 7   has_accidents        1330246 non-null  bool   \n",
      " 8   horsepower           1330246 non-null  float64\n",
      " 9   listing_color        1330246 non-null  object \n",
      " 10  major_options        1330246 non-null  object \n",
      " 11  make_name            1330246 non-null  object \n",
      " 12  mileage              1330246 non-null  float64\n",
      " 13  model_name           1330246 non-null  object \n",
      " 14  owner_count          1330246 non-null  float64\n",
      " 15  price                1330246 non-null  float64\n",
      " 16  transmission         1330246 non-null  object \n",
      " 17  wheel_system         1330246 non-null  object \n",
      " 18  year                 1330246 non-null  int64  \n",
      "dtypes: bool(2), float64(7), int64(2), object(8)\n",
      "memory usage: 185.2+ MB\n"
     ]
    }
   ],
   "source": [
    "df.info()"
   ]
  },
  {
   "cell_type": "markdown",
   "metadata": {},
   "source": [
    "Checking percentage of missing values"
   ]
  },
  {
   "cell_type": "code",
   "execution_count": 8,
   "metadata": {},
   "outputs": [
    {
     "data": {
      "text/plain": [
       "body_type              0.0\n",
       "latitude               0.0\n",
       "longitude              0.0\n",
       "daysonmarket           0.0\n",
       "engine_displacement    0.0\n",
       "frame_damaged          0.0\n",
       "fuel_type              0.0\n",
       "has_accidents          0.0\n",
       "horsepower             0.0\n",
       "listing_color          0.0\n",
       "major_options          0.0\n",
       "make_name              0.0\n",
       "mileage                0.0\n",
       "model_name             0.0\n",
       "owner_count            0.0\n",
       "price                  0.0\n",
       "transmission           0.0\n",
       "wheel_system           0.0\n",
       "year                   0.0\n",
       "dtype: float64"
      ]
     },
     "execution_count": 8,
     "metadata": {},
     "output_type": "execute_result"
    }
   ],
   "source": [
    "df.isnull().sum() / df.shape[0] * 100"
   ]
  },
  {
   "cell_type": "code",
   "execution_count": null,
   "metadata": {},
   "outputs": [],
   "source": [
    "sns.displot(df, x=\"\")"
   ]
  }
 ],
 "metadata": {
  "interpreter": {
   "hash": "9dea8fb9736a16de4b83243e9a188a0ad992665020bf666c4b4262e5b71e7faa"
  },
  "kernelspec": {
   "display_name": "Python 3.8.5 64-bit",
   "language": "python",
   "name": "python3"
  },
  "language_info": {
   "codemirror_mode": {
    "name": "ipython",
    "version": 3
   },
   "file_extension": ".py",
   "mimetype": "text/x-python",
   "name": "python",
   "nbconvert_exporter": "python",
   "pygments_lexer": "ipython3",
   "version": "3.8.5"
  },
  "orig_nbformat": 4
 },
 "nbformat": 4,
 "nbformat_minor": 2
}
