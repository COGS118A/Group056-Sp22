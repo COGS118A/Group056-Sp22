{
 "cells": [
  {
   "cell_type": "code",
   "execution_count": 1,
   "metadata": {},
   "outputs": [
    {
     "name": "stdout",
     "output_type": "stream",
     "text": [
      "(1330246, 19)\n"
     ]
    },
    {
     "data": {
      "text/html": [
       "<div>\n",
       "<style scoped>\n",
       "    .dataframe tbody tr th:only-of-type {\n",
       "        vertical-align: middle;\n",
       "    }\n",
       "\n",
       "    .dataframe tbody tr th {\n",
       "        vertical-align: top;\n",
       "    }\n",
       "\n",
       "    .dataframe thead th {\n",
       "        text-align: right;\n",
       "    }\n",
       "</style>\n",
       "<table border=\"1\" class=\"dataframe\">\n",
       "  <thead>\n",
       "    <tr style=\"text-align: right;\">\n",
       "      <th></th>\n",
       "      <th>daysonmarket</th>\n",
       "      <th>engine_displacement</th>\n",
       "      <th>frame_damaged</th>\n",
       "      <th>has_accidents</th>\n",
       "      <th>horsepower</th>\n",
       "      <th>mileage</th>\n",
       "      <th>owner_count</th>\n",
       "      <th>price</th>\n",
       "      <th>year</th>\n",
       "      <th>101A Mid Equipment Group</th>\n",
       "      <th>...</th>\n",
       "      <th>Ultimate Package</th>\n",
       "      <th>Ultra Luxury Package</th>\n",
       "      <th>Upgrade Package</th>\n",
       "      <th>Utility Package</th>\n",
       "      <th>Value Package</th>\n",
       "      <th>Winter Package</th>\n",
       "      <th>Wood Trim Package</th>\n",
       "      <th>XLE Package</th>\n",
       "      <th>XLT Package</th>\n",
       "      <th>Z 71 Package</th>\n",
       "    </tr>\n",
       "  </thead>\n",
       "  <tbody>\n",
       "    <tr>\n",
       "      <th>0</th>\n",
       "      <td>1252</td>\n",
       "      <td>1700.0</td>\n",
       "      <td>0</td>\n",
       "      <td>0</td>\n",
       "      <td>237.0</td>\n",
       "      <td>301.0</td>\n",
       "      <td>2.0</td>\n",
       "      <td>97579.0</td>\n",
       "      <td>2015</td>\n",
       "      <td>0</td>\n",
       "      <td>...</td>\n",
       "      <td>0</td>\n",
       "      <td>0</td>\n",
       "      <td>0</td>\n",
       "      <td>0</td>\n",
       "      <td>0</td>\n",
       "      <td>0</td>\n",
       "      <td>0</td>\n",
       "      <td>0</td>\n",
       "      <td>0</td>\n",
       "      <td>0</td>\n",
       "    </tr>\n",
       "    <tr>\n",
       "      <th>1</th>\n",
       "      <td>1233</td>\n",
       "      <td>3000.0</td>\n",
       "      <td>0</td>\n",
       "      <td>0</td>\n",
       "      <td>320.0</td>\n",
       "      <td>6903.0</td>\n",
       "      <td>2.0</td>\n",
       "      <td>58995.0</td>\n",
       "      <td>2016</td>\n",
       "      <td>0</td>\n",
       "      <td>...</td>\n",
       "      <td>0</td>\n",
       "      <td>0</td>\n",
       "      <td>0</td>\n",
       "      <td>0</td>\n",
       "      <td>0</td>\n",
       "      <td>0</td>\n",
       "      <td>0</td>\n",
       "      <td>0</td>\n",
       "      <td>0</td>\n",
       "      <td>0</td>\n",
       "    </tr>\n",
       "    <tr>\n",
       "      <th>2</th>\n",
       "      <td>33</td>\n",
       "      <td>1600.0</td>\n",
       "      <td>0</td>\n",
       "      <td>0</td>\n",
       "      <td>201.0</td>\n",
       "      <td>30707.0</td>\n",
       "      <td>1.0</td>\n",
       "      <td>13324.0</td>\n",
       "      <td>2017</td>\n",
       "      <td>0</td>\n",
       "      <td>...</td>\n",
       "      <td>0</td>\n",
       "      <td>0</td>\n",
       "      <td>0</td>\n",
       "      <td>0</td>\n",
       "      <td>0</td>\n",
       "      <td>0</td>\n",
       "      <td>0</td>\n",
       "      <td>0</td>\n",
       "      <td>0</td>\n",
       "      <td>0</td>\n",
       "    </tr>\n",
       "    <tr>\n",
       "      <th>3</th>\n",
       "      <td>55</td>\n",
       "      <td>1500.0</td>\n",
       "      <td>0</td>\n",
       "      <td>0</td>\n",
       "      <td>160.0</td>\n",
       "      <td>42394.0</td>\n",
       "      <td>1.0</td>\n",
       "      <td>14639.0</td>\n",
       "      <td>2018</td>\n",
       "      <td>0</td>\n",
       "      <td>...</td>\n",
       "      <td>0</td>\n",
       "      <td>0</td>\n",
       "      <td>0</td>\n",
       "      <td>0</td>\n",
       "      <td>0</td>\n",
       "      <td>0</td>\n",
       "      <td>0</td>\n",
       "      <td>0</td>\n",
       "      <td>0</td>\n",
       "      <td>0</td>\n",
       "    </tr>\n",
       "    <tr>\n",
       "      <th>4</th>\n",
       "      <td>36</td>\n",
       "      <td>3500.0</td>\n",
       "      <td>0</td>\n",
       "      <td>0</td>\n",
       "      <td>311.0</td>\n",
       "      <td>62251.0</td>\n",
       "      <td>1.0</td>\n",
       "      <td>32000.0</td>\n",
       "      <td>2018</td>\n",
       "      <td>0</td>\n",
       "      <td>...</td>\n",
       "      <td>0</td>\n",
       "      <td>0</td>\n",
       "      <td>0</td>\n",
       "      <td>0</td>\n",
       "      <td>0</td>\n",
       "      <td>0</td>\n",
       "      <td>0</td>\n",
       "      <td>0</td>\n",
       "      <td>0</td>\n",
       "      <td>0</td>\n",
       "    </tr>\n",
       "  </tbody>\n",
       "</table>\n",
       "<p>5 rows × 269 columns</p>\n",
       "</div>"
      ],
      "text/plain": [
       "   daysonmarket  engine_displacement  frame_damaged  has_accidents  \\\n",
       "0          1252               1700.0              0              0   \n",
       "1          1233               3000.0              0              0   \n",
       "2            33               1600.0              0              0   \n",
       "3            55               1500.0              0              0   \n",
       "4            36               3500.0              0              0   \n",
       "\n",
       "   horsepower  mileage  owner_count    price  year   101A Mid Equipment Group  \\\n",
       "0       237.0    301.0          2.0  97579.0  2015                          0   \n",
       "1       320.0   6903.0          2.0  58995.0  2016                          0   \n",
       "2       201.0  30707.0          1.0  13324.0  2017                          0   \n",
       "3       160.0  42394.0          1.0  14639.0  2018                          0   \n",
       "4       311.0  62251.0          1.0  32000.0  2018                          0   \n",
       "\n",
       "   ...  Ultimate Package  Ultra Luxury Package  Upgrade Package  \\\n",
       "0  ...                 0                     0                0   \n",
       "1  ...                 0                     0                0   \n",
       "2  ...                 0                     0                0   \n",
       "3  ...                 0                     0                0   \n",
       "4  ...                 0                     0                0   \n",
       "\n",
       "   Utility Package  Value Package  Winter Package  Wood Trim Package  \\\n",
       "0                0              0               0                  0   \n",
       "1                0              0               0                  0   \n",
       "2                0              0               0                  0   \n",
       "3                0              0               0                  0   \n",
       "4                0              0               0                  0   \n",
       "\n",
       "   XLE Package  XLT Package  Z 71 Package  \n",
       "0            0            0             0  \n",
       "1            0            0             0  \n",
       "2            0            0             0  \n",
       "3            0            0             0  \n",
       "4            0            0             0  \n",
       "\n",
       "[5 rows x 269 columns]"
      ]
     },
     "execution_count": 1,
     "metadata": {},
     "output_type": "execute_result"
    }
   ],
   "source": [
    "import pandas as pd\n",
    "import numpy as np\n",
    "import matplotlib.pyplot as plt\n",
    "\n",
    "df = pd.concat ([pd.read_csv(\"datasets/d1.csv\"), pd.read_csv(\"datasets/d2.csv\"), pd.read_csv(\"datasets/d3.csv\"),pd.read_csv(\"datasets/d4.csv\")])\n",
    "print(df.shape)\n",
    "df.head()\n",
    "#Create dataframe with variables we need\n",
    "df_WIP = df.loc[:,['daysonmarket', 'engine_displacement', \n",
    "              'frame_damaged', 'has_accidents', 'horsepower',\n",
    "              'major_options', 'mileage', 'owner_count', 'price', 'year']]\n",
    "df_WIP = df_WIP.reset_index()\n",
    "df_WIP = df_WIP.drop(['index'], axis = 1)\n",
    "#Turn major_options into # of major options\n",
    "#df_test = df_WIP['major_options'].apply(lambda x : x.split(','))\n",
    "#df_test = df_test.apply(lambda x : np.size(x))\n",
    "#df_WIP['major_options'] = df_test\n",
    "#convert True/False data into 1/0\n",
    "mo = df_WIP['major_options']\n",
    "mo = mo.str.replace(\"[\",\"\")\n",
    "mo = mo.str.replace(\"]\",\"\")\n",
    "mo = mo.str.replace(\"'\",\"\")\n",
    "mo = mo.str.get_dummies(',')\n",
    "df_WIP = pd.concat([df_WIP, mo], axis=\"columns\")\n",
    "df_WIP = df_WIP.drop(columns=['major_options'])\n",
    "\n",
    "\n",
    "\n",
    "df_WIP[['frame_damaged', 'has_accidents']] = df_WIP[['frame_damaged', 'has_accidents']].astype(int)\n",
    "df_WIP.head()"
   ]
  },
  {
   "cell_type": "code",
   "execution_count": 2,
   "metadata": {},
   "outputs": [
    {
     "data": {
      "image/png": "[encoded data removed]",
      "text/plain": [
       "<Figure size 1008x360 with 1 Axes>"
      ]
     },
     "metadata": {
      "needs_background": "light"
     },
     "output_type": "display_data"
    }
   ],
   "source": [
    "df_pa = df_WIP['price']\n",
    "plt.figure(figsize=(14, 5))\n",
    "plt.hist(df_pa, bins=range(0, 100000, 5000))\n",
    "plt.show()"
   ]
  },
  {
   "cell_type": "code",
   "execution_count": 3,
   "metadata": {},
   "outputs": [
    {
     "data": {
      "text/plain": [
       "array([      0.,    8000.,   11000.,   14000.,   16000.,   18000.,\n",
       "         19000.,   22000.,   25000.,   28000.,   33000.,   40000.,\n",
       "       3195000.])"
      ]
     },
     "execution_count": 3,
     "metadata": {},
     "output_type": "execute_result"
    }
   ],
   "source": [
    "pa_c, priceInterval = pd.qcut(x=df_pa, q=12, retbins=True)\n",
    "del pa_c\n",
    "priceInterval[0] = 0\n",
    "for i in range(priceInterval.shape[0]):\n",
    "    priceInterval[i] = int(round(priceInterval[i], -3))\n",
    "priceInterval"
   ]
  },
  {
   "cell_type": "code",
   "execution_count": 4,
   "metadata": {},
   "outputs": [],
   "source": [
    "priceInterval = priceInterval[0:-1].tolist()\n",
    "priceInterval[6] = 20000\n",
    "priceInterval.extend([55000, 70000, 100000, 150000, 200000])"
   ]
  },
  {
   "cell_type": "code",
   "execution_count": 5,
   "metadata": {},
   "outputs": [
    {
     "data": {
      "text/html": [
       "<div>\n",
       "<style scoped>\n",
       "    .dataframe tbody tr th:only-of-type {\n",
       "        vertical-align: middle;\n",
       "    }\n",
       "\n",
       "    .dataframe tbody tr th {\n",
       "        vertical-align: top;\n",
       "    }\n",
       "\n",
       "    .dataframe thead th {\n",
       "        text-align: right;\n",
       "    }\n",
       "</style>\n",
       "<table border=\"1\" class=\"dataframe\">\n",
       "  <thead>\n",
       "    <tr style=\"text-align: right;\">\n",
       "      <th></th>\n",
       "      <th>lower bound</th>\n",
       "      <th>upper bound</th>\n",
       "      <th>count</th>\n",
       "    </tr>\n",
       "  </thead>\n",
       "  <tbody>\n",
       "    <tr>\n",
       "      <th>0</th>\n",
       "      <td>0.0</td>\n",
       "      <td>8000.0</td>\n",
       "      <td>112322.0</td>\n",
       "    </tr>\n",
       "    <tr>\n",
       "      <th>1</th>\n",
       "      <td>8000.0</td>\n",
       "      <td>11000.0</td>\n",
       "      <td>106386.0</td>\n",
       "    </tr>\n",
       "    <tr>\n",
       "      <th>2</th>\n",
       "      <td>11000.0</td>\n",
       "      <td>14000.0</td>\n",
       "      <td>129798.0</td>\n",
       "    </tr>\n",
       "    <tr>\n",
       "      <th>3</th>\n",
       "      <td>14000.0</td>\n",
       "      <td>16000.0</td>\n",
       "      <td>115528.0</td>\n",
       "    </tr>\n",
       "    <tr>\n",
       "      <th>4</th>\n",
       "      <td>16000.0</td>\n",
       "      <td>18000.0</td>\n",
       "      <td>129450.0</td>\n",
       "    </tr>\n",
       "    <tr>\n",
       "      <th>5</th>\n",
       "      <td>18000.0</td>\n",
       "      <td>20000.0</td>\n",
       "      <td>120058.0</td>\n",
       "    </tr>\n",
       "    <tr>\n",
       "      <th>6</th>\n",
       "      <td>20000.0</td>\n",
       "      <td>22000.0</td>\n",
       "      <td>86261.0</td>\n",
       "    </tr>\n",
       "    <tr>\n",
       "      <th>7</th>\n",
       "      <td>22000.0</td>\n",
       "      <td>25000.0</td>\n",
       "      <td>110041.0</td>\n",
       "    </tr>\n",
       "    <tr>\n",
       "      <th>8</th>\n",
       "      <td>25000.0</td>\n",
       "      <td>28000.0</td>\n",
       "      <td>90715.0</td>\n",
       "    </tr>\n",
       "    <tr>\n",
       "      <th>9</th>\n",
       "      <td>28000.0</td>\n",
       "      <td>33000.0</td>\n",
       "      <td>117408.0</td>\n",
       "    </tr>\n",
       "    <tr>\n",
       "      <th>10</th>\n",
       "      <td>33000.0</td>\n",
       "      <td>40000.0</td>\n",
       "      <td>110348.0</td>\n",
       "    </tr>\n",
       "    <tr>\n",
       "      <th>11</th>\n",
       "      <td>40000.0</td>\n",
       "      <td>55000.0</td>\n",
       "      <td>75596.0</td>\n",
       "    </tr>\n",
       "    <tr>\n",
       "      <th>12</th>\n",
       "      <td>55000.0</td>\n",
       "      <td>70000.0</td>\n",
       "      <td>16508.0</td>\n",
       "    </tr>\n",
       "    <tr>\n",
       "      <th>13</th>\n",
       "      <td>70000.0</td>\n",
       "      <td>100000.0</td>\n",
       "      <td>6033.0</td>\n",
       "    </tr>\n",
       "    <tr>\n",
       "      <th>14</th>\n",
       "      <td>100000.0</td>\n",
       "      <td>150000.0</td>\n",
       "      <td>2025.0</td>\n",
       "    </tr>\n",
       "    <tr>\n",
       "      <th>15</th>\n",
       "      <td>150000.0</td>\n",
       "      <td>200000.0</td>\n",
       "      <td>811.0</td>\n",
       "    </tr>\n",
       "    <tr>\n",
       "      <th>16</th>\n",
       "      <td>200000.0</td>\n",
       "      <td>NaN</td>\n",
       "      <td>958.0</td>\n",
       "    </tr>\n",
       "  </tbody>\n",
       "</table>\n",
       "</div>"
      ],
      "text/plain": [
       "    lower bound  upper bound     count\n",
       "0           0.0       8000.0  112322.0\n",
       "1        8000.0      11000.0  106386.0\n",
       "2       11000.0      14000.0  129798.0\n",
       "3       14000.0      16000.0  115528.0\n",
       "4       16000.0      18000.0  129450.0\n",
       "5       18000.0      20000.0  120058.0\n",
       "6       20000.0      22000.0   86261.0\n",
       "7       22000.0      25000.0  110041.0\n",
       "8       25000.0      28000.0   90715.0\n",
       "9       28000.0      33000.0  117408.0\n",
       "10      33000.0      40000.0  110348.0\n",
       "11      40000.0      55000.0   75596.0\n",
       "12      55000.0      70000.0   16508.0\n",
       "13      70000.0     100000.0    6033.0\n",
       "14     100000.0     150000.0    2025.0\n",
       "15     150000.0     200000.0     811.0\n",
       "16     200000.0          NaN     958.0"
      ]
     },
     "execution_count": 5,
     "metadata": {},
     "output_type": "execute_result"
    }
   ],
   "source": [
    "price_count = pd.DataFrame({'lower bound':[], 'upper bound':[], 'count': []})\n",
    "for i in range(len(priceInterval)):\n",
    "    lower = priceInterval[i]\n",
    "    if i < len(priceInterval) - 1:\n",
    "        upper = priceInterval[i + 1]\n",
    "        rowCount = df_pa.loc[(df_pa >= lower) & (df_pa < upper)].shape[0]\n",
    "        price_count.loc[len(price_count.index)] = [lower, upper, rowCount]\n",
    "    else:\n",
    "        rowCount = df_pa.loc[(df_pa >= lower)].shape[0]\n",
    "        price_count.loc[len(price_count.index)] = [lower, np.nan, rowCount]\n",
    "        break\n",
    "\n",
    "price_count"
   ]
  },
  {
   "cell_type": "code",
   "execution_count": 11,
   "metadata": {},
   "outputs": [],
   "source": [
    "# Convert price to prive interval\n",
    "\n",
    "df_update = df_WIP[df_WIP.price < 150000]\n",
    "#Cuts out outlier data (We could leave this in if we want)\n"
   ]
  },
  {
   "cell_type": "code",
   "execution_count": 59,
   "metadata": {},
   "outputs": [
    {
     "data": {
      "text/plain": [
       "pandas.core.frame.DataFrame"
      ]
     },
     "execution_count": 59,
     "metadata": {},
     "output_type": "execute_result"
    }
   ],
   "source": [
    "df_temptest = df_update.copy(deep = True)\n",
    "type(df_temptest)"
   ]
  },
  {
   "cell_type": "code",
   "execution_count": 9,
   "metadata": {},
   "outputs": [],
   "source": [
    "#price_adjuster(df_temptest)\n",
    "\n",
    "#df_temptest.loc[(0 <= df_temptest['price']) & (df_temptest['price'] <= 8000), ['price']] = '$0 to 8000'\n",
    "#df_temptest.loc[(8000 < df_temptest['price']) & (df_temptest['price'] <= 11000), ['price']] = '$8001 to 11000'\n",
    "#df_temptest.loc[(11000 < df_temptest['price']) & (df_temptest['price'] <= 14000), ['price']] = '$11001 to 14000'\n",
    "#df_temptest.loc[(14000 < df_temptest['price']) & (df_temptest['price'] <= 16000), ['price']] = '$14001 to 16000'\n",
    "#df_temptest.loc[(16000 < df_temptest['price']) & (df_temptest['price'] <= 18000), ['price']] = '$16001 to 18000'\n",
    "#df_temptest.loc[(18000 < df_temptest['price']) & (df_temptest['price'] <= 20000), ['price']] = '$18001 to 20000'\n",
    "#df_temptest.loc[(22000 < df_temptest['price']) & (df_temptest['price'] <= 25000), ['price']] = '$22001 to 25000'\n",
    "#df_temptest.loc[(25000 < df_temptest['price']) & (df_temptest['price'] <= 28000), ['price']] = '$25001 to 28000'\n",
    "#df_temptest.loc[(28000 < df_temptest['price']) & (df_temptest['price'] <= 33000), ['price']] = '$28001 to 33000'\n",
    "#df_temptest.loc[(33000 < df_temptest['price']) & (df_temptest['price'] <= 40000), ['price']] = '$33001 to 40000'\n",
    "#df_temptest.loc[(40000 < df_temptest['price']) & (df_temptest['price'] <= 55000), ['price']] = '$40001 to 55000'\n",
    "#df_temptest.loc[(55000 < df_temptest['price']) & (df_temptest['price'] <= 70000), ['price']] = '$55001 to 70000'\n",
    "#df_temptest.loc[(70000 < df_temptest['price']) & (df_temptest['price'] <= 100000), ['price']] = '$70001 to 100000'\n",
    "#df_temptest.loc[(100000 < df_temptest['price']) & (df_temptest['price'] <= 150000), ['price']] = '$22001 to 25000'"
   ]
  },
  {
   "cell_type": "code",
   "execution_count": 60,
   "metadata": {},
   "outputs": [],
   "source": [
    "df_temptest['price_range'] = 0\n",
    "df_temptest.loc[(0 <= df_temptest['price']) & (df_temptest['price'] <= 8000), ['price_range']] = '$0 to 8000'\n",
    "df_temptest.loc[(8000 < df_temptest['price']) & (df_temptest['price'] <= 11000), ['price_range']] = '$8001 to 11000'\n",
    "df_temptest.loc[(11000 < df_temptest['price']) & (df_temptest['price'] <= 14000), ['price_range']] = '$11001 to 14000'\n",
    "df_temptest.loc[(14000 < df_temptest['price']) & (df_temptest['price'] <= 16000), ['price_range']] = '$14001 to 16000'\n",
    "df_temptest.loc[(16000 < df_temptest['price']) & (df_temptest['price'] <= 18000), ['price_range']] = '$16001 to 18000'\n",
    "df_temptest.loc[(18000 < df_temptest['price']) & (df_temptest['price'] <= 20000), ['price_range']] = '$18001 to 20000'\n",
    "df_temptest.loc[(20000 < df_temptest['price']) & (df_temptest['price'] <= 22000), ['price_range']] = '$20001 to 25000'\n",
    "df_temptest.loc[(22000 < df_temptest['price']) & (df_temptest['price'] <= 25000), ['price_range']] = '$22001 to 25000'\n",
    "df_temptest.loc[(25000 < df_temptest['price']) & (df_temptest['price'] <= 28000), ['price_range']] = '$25001 to 28000'\n",
    "df_temptest.loc[(28000 < df_temptest['price']) & (df_temptest['price'] <= 33000), ['price_range']] = '$28001 to 33000'\n",
    "df_temptest.loc[(33000 < df_temptest['price']) & (df_temptest['price'] <= 40000), ['price_range']] = '$33001 to 40000'\n",
    "df_temptest.loc[(40000 < df_temptest['price']) & (df_temptest['price'] <= 55000), ['price_range']] = '$40001 to 55000'\n",
    "df_temptest.loc[(55000 < df_temptest['price']) & (df_temptest['price'] <= 70000), ['price_range']] = '$55001 to 70000'\n",
    "df_temptest.loc[(70000 < df_temptest['price']) & (df_temptest['price'] <= 100000), ['price_range']] = '$70001 to 100000'\n",
    "df_temptest.loc[(100000 < df_temptest['price']) & (df_temptest['price'] <= 150000), ['price_range']] = '$100001 to 150000'\n",
    "\n",
    "#creates a new column \"price_range\""
   ]
  },
  {
   "cell_type": "code",
   "execution_count": 54,
   "metadata": {},
   "outputs": [
    {
     "data": {
      "text/plain": [
       "22         20879.0\n",
       "37         22000.0\n",
       "44         20439.0\n",
       "53         21500.0\n",
       "73         21700.0\n",
       "            ...   \n",
       "1330208    20620.0\n",
       "1330212    21000.0\n",
       "1330228    21998.0\n",
       "1330238    20700.0\n",
       "1330239    20998.0\n",
       "Name: price, Length: 85397, dtype: float64"
      ]
     },
     "execution_count": 54,
     "metadata": {},
     "output_type": "execute_result"
    }
   ],
   "source": [
    "df_temptest['price_range'].unique()\n",
    "miketyson = df_temptest.loc[df_temptest['price_range'] == 0]\n",
    "miketyson['price']"
   ]
  },
  {
   "cell_type": "code",
   "execution_count": 107,
   "metadata": {},
   "outputs": [],
   "source": [
    "#split to target variable/rest\n",
    "\n",
    "y = df_temptest['price_range']\n",
    "X = df_temptest.drop(['price_range'], axis = 1)"
   ]
  },
  {
   "cell_type": "code",
   "execution_count": null,
   "metadata": {},
   "outputs": [],
   "source": [
    "from sklearn.preprocessing import StandardScaler\n",
    "from sklearn import preprocessing\n",
    "from sklearn.linear_model import LogisticRegression\n",
    "from sklearn.pipeline import Pipeline\n",
    "from sklearn.impute import SimpleImputer\n",
    "from sklearn.model_selection import GridSearchCV, train_test_split\n",
    "from sklearn.metrics import plot_confusion_matrix, f1_score, confusion_matrix\n",
    "from sklearn.linear_model import LinearRegression\n",
    "from sklearn.metrics import mean_absolute_error, accuracy_score, r2_score\n",
    "from sklearn.pipeline import make_pipeline\n",
    "\n",
    "#This encodes our categories for price_range in a format usable by the model\n",
    "le = preprocessing.LabelEncoder()\n",
    "le.fit(y)\n",
    "y_workable = le.transform(y)\n",
    "\n",
    "X_train, X_test, y_train, y_test = train_test_split(X, y_workable, test_size = 0.33, random_state = 42)\n",
    "\n",
    "scaler = StandardScaler()\n",
    "imp = SimpleImputer(missing_values=np.nan, strategy='mean')\n",
    "logistic = LogisticRegression(penalty='l1', )\n",
    "\n",
    "\n",
    "\n",
    "pipe = Pipeline(steps=[(\"scaler\", scaler), (\"imputer\", imp), (\"logistic\", logistic)])\n",
    "\n",
    "param_grid = { 'logistic__solver': ('saga', 'liblinear'), 'logistic__max_iter' : (800,)}\n",
    "\n",
    "gscv =  GridSearchCV(estimator = pipe, param_grid = param_grid, cv = 7, scoring = 'f1_micro')\n",
    "gscv.fit(X_train, y_train)\n",
    "\n",
    "#print(model.get_params())\n",
    "y_pred = gscv.predict(X_test)\n",
    "print(r2_score(y_test, y_pred))\n",
    "\n",
    "\n",
    "#Logistic regression attempted\n"
   ]
  },
  {
   "cell_type": "code",
   "execution_count": 98,
   "metadata": {},
   "outputs": [
    {
     "data": {
      "text/plain": [
       "LabelEncoder()"
      ]
     },
     "execution_count": 98,
     "metadata": {},
     "output_type": "execute_result"
    }
   ],
   "source": [
    "le = preprocessing.LabelEncoder()\n",
    "le.fit(y)\n",
    "\n"
   ]
  },
  {
   "cell_type": "code",
   "execution_count": 99,
   "metadata": {},
   "outputs": [
    {
     "data": {
      "text/plain": [
       "array(['$0 to 8000', '$100001 to 150000', '$11001 to 14000',\n",
       "       '$14001 to 16000', '$16001 to 18000', '$18001 to 20000',\n",
       "       '$20001 to 25000', '$22001 to 25000', '$25001 to 28000',\n",
       "       '$28001 to 33000', '$33001 to 40000', '$40001 to 55000',\n",
       "       '$55001 to 70000', '$70001 to 100000', '$8001 to 11000'],\n",
       "      dtype=object)"
      ]
     },
     "execution_count": 99,
     "metadata": {},
     "output_type": "execute_result"
    }
   ],
   "source": [
    "le.classes_"
   ]
  },
  {
   "cell_type": "code",
   "execution_count": 100,
   "metadata": {},
   "outputs": [],
   "source": [
    "y_transformed = le.transform(y)\n",
    "\n"
   ]
  },
  {
   "cell_type": "code",
   "execution_count": 104,
   "metadata": {},
   "outputs": [],
   "source": [
    "unencoded_pred = le.inverse_transform(y_pred)\n",
    "unencoded = list(le.inverse_transform(y_transformed))\n"
   ]
  },
  {
   "cell_type": "code",
   "execution_count": 106,
   "metadata": {},
   "outputs": [
    {
     "data": {
      "text/plain": [
       "array([ 1, 14, 10, ...,  9,  7,  2], dtype=int64)"
      ]
     },
     "execution_count": 106,
     "metadata": {},
     "output_type": "execute_result"
    }
   ],
   "source": [
    "y_pred"
   ]
  },
  {
   "cell_type": "code",
   "execution_count": null,
   "metadata": {},
   "outputs": [],
   "source": []
  }
 ],
 "metadata": {
  "kernelspec": {
   "display_name": "Python 3",
   "language": "python",
   "name": "python3"
  },
  "language_info": {
   "codemirror_mode": {
    "name": "ipython",
    "version": 3
   },
   "file_extension": ".py",
   "mimetype": "text/x-python",
   "name": "python",
   "nbconvert_exporter": "python",
   "pygments_lexer": "ipython3",
   "version": "3.8.3"
  }
 },
 "nbformat": 4,
 "nbformat_minor": 4
}
